{
 "cells": [
  {
   "cell_type": "code",
   "execution_count": 56,
   "id": "f909aca4",
   "metadata": {},
   "outputs": [],
   "source": [
    "import scrapy\n",
    "from scrapy.crawler import CrawlerProcess\n",
    "import re"
   ]
  },
  {
   "cell_type": "code",
   "execution_count": 8,
   "id": "7a1f8681",
   "metadata": {},
   "outputs": [
    {
     "name": "stdout",
     "output_type": "stream",
     "text": [
      "Scrapy 2.6.1 - no active project\r\n",
      "\r\n",
      "Unknown command: crawl\r\n",
      "\r\n",
      "Use \"scrapy\" to see available commands\r\n"
     ]
    }
   ],
   "source": [
    "!scrapy crawl scraper_name.py"
   ]
  },
  {
   "cell_type": "code",
   "execution_count": 9,
   "id": "a3535c57",
   "metadata": {},
   "outputs": [
    {
     "data": {
      "text/plain": [
       "'/Users/dilyanyordanov/Documents/Softuni_AI/TEST/project'"
      ]
     },
     "execution_count": 9,
     "metadata": {},
     "output_type": "execute_result"
    }
   ],
   "source": [
    "pwd"
   ]
  },
  {
   "cell_type": "code",
   "execution_count": 29,
   "id": "fc4f9088",
   "metadata": {},
   "outputs": [
    {
     "name": "stdout",
     "output_type": "stream",
     "text": [
      "/Users/dilyanyordanov/Documents/Softuni_AI/TEST/project/jobscraper\n"
     ]
    }
   ],
   "source": [
    "cd '/Users/dilyanyordanov/Documents/Softuni_AI/TEST/project/jobscraper/'"
   ]
  },
  {
   "cell_type": "code",
   "execution_count": 30,
   "id": "4639ba65",
   "metadata": {},
   "outputs": [
    {
     "data": {
      "text/plain": [
       "'/Users/dilyanyordanov/Documents/Softuni_AI/TEST/project/jobscraper'"
      ]
     },
     "execution_count": 30,
     "metadata": {},
     "output_type": "execute_result"
    }
   ],
   "source": [
    "pwd"
   ]
  },
  {
   "cell_type": "code",
   "execution_count": 31,
   "id": "12b2c333",
   "metadata": {},
   "outputs": [
    {
     "name": "stdout",
     "output_type": "stream",
     "text": [
      "\u001b[34mjobscraper\u001b[m\u001b[m/ scrapy.cfg\r\n"
     ]
    }
   ],
   "source": [
    "ls"
   ]
  },
  {
   "cell_type": "code",
   "execution_count": 61,
   "id": "cfcf3cb0",
   "metadata": {},
   "outputs": [
    {
     "name": "stdout",
     "output_type": "stream",
     "text": [
      "2023-03-10 13:00:55 [scrapy.utils.log] INFO: Scrapy 2.6.1 started (bot: jobscraper)\n",
      "2023-03-10 13:00:55 [scrapy.utils.log] INFO: Versions: lxml 4.9.2.0, libxml2 2.9.14, cssselect 1.1.0, parsel 1.6.0, w3lib 1.21.0, Twisted 22.2.0, Python 3.9.12 (main, Apr  5 2022, 01:53:17) - [Clang 12.0.0 ], pyOpenSSL 21.0.0 (OpenSSL 1.1.1o  3 May 2022), cryptography 3.4.8, Platform macOS-10.16-x86_64-i386-64bit\n",
      "2023-03-10 13:00:55 [scrapy.crawler] INFO: Overridden settings:\n",
      "{'BOT_NAME': 'jobscraper',\n",
      " 'NEWSPIDER_MODULE': 'jobscraper.spiders',\n",
      " 'ROBOTSTXT_OBEY': True,\n",
      " 'SPIDER_MODULES': ['jobscraper.spiders'],\n",
      " 'USER_AGENT': 'Mozilla/5.0 (Macintosh; Intel Mac OS X 10_15_7) '\n",
      "               'AppleWebKit/537.36 (KHTML, like Gecko) Chrome/91.0.4472.114 '\n",
      "               'Safari/537.36'}\n",
      "2023-03-10 13:00:55 [scrapy.utils.log] DEBUG: Using reactor: twisted.internet.selectreactor.SelectReactor\n",
      "2023-03-10 13:00:55 [scrapy.extensions.telnet] INFO: Telnet Password: 45675139d9406786\n",
      "2023-03-10 13:00:55 [scrapy.middleware] INFO: Enabled extensions:\n",
      "['scrapy.extensions.corestats.CoreStats',\n",
      " 'scrapy.extensions.telnet.TelnetConsole',\n",
      " 'scrapy.extensions.memusage.MemoryUsage',\n",
      " 'scrapy.extensions.feedexport.FeedExporter',\n",
      " 'scrapy.extensions.logstats.LogStats']\n",
      "2023-03-10 13:00:55 [scrapy.middleware] INFO: Enabled downloader middlewares:\n",
      "['scrapy.downloadermiddlewares.robotstxt.RobotsTxtMiddleware',\n",
      " 'scrapy.downloadermiddlewares.httpauth.HttpAuthMiddleware',\n",
      " 'scrapy.downloadermiddlewares.downloadtimeout.DownloadTimeoutMiddleware',\n",
      " 'scrapy.downloadermiddlewares.defaultheaders.DefaultHeadersMiddleware',\n",
      " 'scrapy.downloadermiddlewares.useragent.UserAgentMiddleware',\n",
      " 'scrapy.downloadermiddlewares.retry.RetryMiddleware',\n",
      " 'scrapy.downloadermiddlewares.redirect.MetaRefreshMiddleware',\n",
      " 'scrapy.downloadermiddlewares.httpcompression.HttpCompressionMiddleware',\n",
      " 'scrapy.downloadermiddlewares.redirect.RedirectMiddleware',\n",
      " 'scrapy.downloadermiddlewares.cookies.CookiesMiddleware',\n",
      " 'scrapy.downloadermiddlewares.httpproxy.HttpProxyMiddleware',\n",
      " 'scrapy.downloadermiddlewares.stats.DownloaderStats']\n",
      "2023-03-10 13:00:55 [scrapy.middleware] INFO: Enabled spider middlewares:\n",
      "['scrapy.spidermiddlewares.httperror.HttpErrorMiddleware',\n",
      " 'scrapy.spidermiddlewares.offsite.OffsiteMiddleware',\n",
      " 'scrapy.spidermiddlewares.referer.RefererMiddleware',\n",
      " 'scrapy.spidermiddlewares.urllength.UrlLengthMiddleware',\n",
      " 'scrapy.spidermiddlewares.depth.DepthMiddleware']\n",
      "2023-03-10 13:00:55 [scrapy.middleware] INFO: Enabled item pipelines:\n",
      "[]\n",
      "2023-03-10 13:00:55 [scrapy.core.engine] INFO: Spider opened\n",
      "2023-03-10 13:00:55 [scrapy.extensions.logstats] INFO: Crawled 0 pages (at 0 pages/min), scraped 0 items (at 0 items/min)\n",
      "2023-03-10 13:00:55 [scrapy.extensions.telnet] INFO: Telnet console listening on 127.0.0.1:6023\n",
      "2023-03-10 13:00:55 [filelock] DEBUG: Attempting to acquire lock 140686222816256 on /Users/dilyanyordanov/.cache/python-tldextract/3.9.12.final__anaconda3__b75add__tldextract-3.2.0/publicsuffix.org-tlds/de84b5ca2167d4c83e38fb162f2e8738.tldextract.json.lock\n",
      "2023-03-10 13:00:55 [filelock] DEBUG: Lock 140686222816256 acquired on /Users/dilyanyordanov/.cache/python-tldextract/3.9.12.final__anaconda3__b75add__tldextract-3.2.0/publicsuffix.org-tlds/de84b5ca2167d4c83e38fb162f2e8738.tldextract.json.lock\n",
      "2023-03-10 13:00:55 [filelock] DEBUG: Attempting to acquire lock 140686222817696 on /Users/dilyanyordanov/.cache/python-tldextract/3.9.12.final__anaconda3__b75add__tldextract-3.2.0/urls/62bf135d1c2f3d4db4228b9ecaf507a2.tldextract.json.lock\n",
      "2023-03-10 13:00:55 [filelock] DEBUG: Lock 140686222817696 acquired on /Users/dilyanyordanov/.cache/python-tldextract/3.9.12.final__anaconda3__b75add__tldextract-3.2.0/urls/62bf135d1c2f3d4db4228b9ecaf507a2.tldextract.json.lock\n",
      "2023-03-10 13:00:55 [filelock] DEBUG: Attempting to release lock 140686222817696 on /Users/dilyanyordanov/.cache/python-tldextract/3.9.12.final__anaconda3__b75add__tldextract-3.2.0/urls/62bf135d1c2f3d4db4228b9ecaf507a2.tldextract.json.lock\n",
      "2023-03-10 13:00:55 [filelock] DEBUG: Lock 140686222817696 released on /Users/dilyanyordanov/.cache/python-tldextract/3.9.12.final__anaconda3__b75add__tldextract-3.2.0/urls/62bf135d1c2f3d4db4228b9ecaf507a2.tldextract.json.lock\n",
      "2023-03-10 13:00:55 [filelock] DEBUG: Attempting to release lock 140686222816256 on /Users/dilyanyordanov/.cache/python-tldextract/3.9.12.final__anaconda3__b75add__tldextract-3.2.0/publicsuffix.org-tlds/de84b5ca2167d4c83e38fb162f2e8738.tldextract.json.lock\n",
      "2023-03-10 13:00:55 [filelock] DEBUG: Lock 140686222816256 released on /Users/dilyanyordanov/.cache/python-tldextract/3.9.12.final__anaconda3__b75add__tldextract-3.2.0/publicsuffix.org-tlds/de84b5ca2167d4c83e38fb162f2e8738.tldextract.json.lock\n",
      "2023-03-10 13:00:55 [scrapy.core.engine] DEBUG: Crawled (200) <GET https://www.jobs.bg/robots.txt> (referer: None)\n",
      "2023-03-10 13:00:55 [scrapy.core.engine] DEBUG: Crawled (200) <GET https://www.jobs.bg/front_job_search.php?subm=1&categories%5B%5D=56&techs%5B%5D=Python> (referer: None)\n",
      "2023-03-10 13:00:55 [scrapy.core.scraper] DEBUG: Scraped from <200 https://www.jobs.bg/front_job_search.php?subm=1&categories%5B%5D=56&techs%5B%5D=Python>\n",
      "{'company': '<div class=\"secondary-text\">MELEXIS BULGARIA</div>',\n",
      " 'job_url': '<a title=\"Senior CAD (EDA) Engineer\" '\n",
      "            'href=\"https://www.jobs.bg/job/6748683\" class=\"black-link-b\">\\n'\n",
      "            '                        \\n'\n",
      "            '                            <div class=\"card-title '\n",
      "            '<!--desktop-->\">\\n'\n",
      "            '                                <span><span class=\"star '\n",
      "            'color-light-blue\">\\n'\n",
      "            '                <i class=\"material-icons\">star</i>\\n'\n",
      "            '                <i class=\"material-icons\">star</i>\\n'\n",
      "            '                <i class=\"material-icons\">star</i>\\n'\n",
      "            '                <i class=\"material-icons\">star</i>\\n'\n",
      "            '                <i class=\"material-icons\">star</i>\\n'\n",
      "            '            </span></span>\\n'\n",
      "            '                                <span>Senior CAD (EDA) '\n",
      "            'Engineer</span>\\n'\n",
      "            '                            </div>\\n'\n",
      "            '\\n'\n",
      "            '                            <div class=\"card-info '\n",
      "            'card__subtitle\">\\n'\n",
      "            '                                София; <span style=\"white-space: '\n",
      "            'nowrap;\"><i class=\"material-icons small-icon\">chair</i> '\n",
      "            'Възможност</span> за работа от вкъщи; <span style=\"white-space: '\n",
      "            'nowrap;\"><i class=\"material-icons small-icon\">3p</i> '\n",
      "            'Дистанционно</span> '\n",
      "            'интервю                                                            '\n",
      "            '</div>\\n'\n",
      "            '\\n'\n",
      "            '                            \\n'\n",
      "            '                                <div class=\"card-tags pt-8\" '\n",
      "            'style=\"\">\\n'\n",
      "            '                                    <div style=\"float: '\n",
      "            'left\">                <div class=\"skill\"><img '\n",
      "            'src=\"https://static.jobs.bg/mobile/images/skills/python.png?v=1.0.0\" '\n",
      "            'alt=\"Python\" loading=\"lazy\" width=\"18\" height=\"18\" '\n",
      "            'style=\"\"></div>\\n'\n",
      "            '                        <div class=\"skill\"><div '\n",
      "            'class=\"skill-not-img\">CAD</div></div>\\n'\n",
      "            '                    <div class=\"skill\"><div '\n",
      "            'class=\"skill-not-img\">Shell Scripts</div></div>\\n'\n",
      "            '        </div>\\n'\n",
      "            '                                </div>\\n'\n",
      "            '\\n'\n",
      "            '                            \\n'\n",
      "            '                                                    </a>',\n",
      " 'location': '\\n                                София; ',\n",
      " 'number_of_employees': '\\n           ',\n",
      " 'position': '<span>Senior CAD (EDA) Engineer</span>',\n",
      " 'todays_date': '2023-03-10'}\n",
      "2023-03-10 13:00:55 [scrapy.core.engine] INFO: Closing spider (finished)\n",
      "2023-03-10 13:00:55 [scrapy.extensions.feedexport] INFO: Stored json feed (1 items) in: items.json\n",
      "2023-03-10 13:00:55 [scrapy.statscollectors] INFO: Dumping Scrapy stats:\n",
      "{'downloader/request_bytes': 896,\n",
      " 'downloader/request_count': 2,\n",
      " 'downloader/request_method_count/GET': 2,\n",
      " 'downloader/response_bytes': 74159,\n",
      " 'downloader/response_count': 2,\n",
      " 'downloader/response_status_count/200': 2,\n",
      " 'elapsed_time_seconds': 0.212852,\n",
      " 'feedexport/success_count/FileFeedStorage': 1,\n",
      " 'finish_reason': 'finished',\n",
      " 'finish_time': datetime.datetime(2023, 3, 10, 11, 0, 55, 978980),\n",
      " 'httpcompression/response_bytes': 363770,\n",
      " 'httpcompression/response_count': 1,\n",
      " 'item_scraped_count': 1,\n",
      " 'log_count/DEBUG': 12,\n",
      " 'log_count/INFO': 11,\n",
      " 'memusage/max': 63406080,\n",
      " 'memusage/startup': 63406080,\n",
      " 'response_received_count': 2,\n",
      " 'robotstxt/request_count': 1,\n",
      " 'robotstxt/response_count': 1,\n",
      " 'robotstxt/response_status_count/200': 1,\n",
      " 'scheduler/dequeued': 1,\n",
      " 'scheduler/dequeued/memory': 1,\n",
      " 'scheduler/enqueued': 1,\n",
      " 'scheduler/enqueued/memory': 1,\n",
      " 'start_time': datetime.datetime(2023, 3, 10, 11, 0, 55, 766128)}\n",
      "2023-03-10 13:00:55 [scrapy.core.engine] INFO: Spider closed (finished)\n"
     ]
    }
   ],
   "source": [
    "!scrapy crawl scraper_name"
   ]
  },
  {
   "cell_type": "code",
   "execution_count": null,
   "id": "5d1512ab",
   "metadata": {},
   "outputs": [],
   "source": []
  }
 ],
 "metadata": {
  "kernelspec": {
   "display_name": "Python 3 (ipykernel)",
   "language": "python",
   "name": "python3"
  },
  "language_info": {
   "codemirror_mode": {
    "name": "ipython",
    "version": 3
   },
   "file_extension": ".py",
   "mimetype": "text/x-python",
   "name": "python",
   "nbconvert_exporter": "python",
   "pygments_lexer": "ipython3",
   "version": "3.9.12"
  }
 },
 "nbformat": 4,
 "nbformat_minor": 5
}
