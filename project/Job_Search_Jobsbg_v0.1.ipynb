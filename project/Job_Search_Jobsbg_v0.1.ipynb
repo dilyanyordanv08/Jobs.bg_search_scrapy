{
 "cells": [
  {
   "cell_type": "code",
   "execution_count": 1,
   "id": "5484c148",
   "metadata": {},
   "outputs": [],
   "source": [
    "%matplotlib inline"
   ]
  },
  {
   "cell_type": "code",
   "execution_count": 2,
   "id": "90b1c734",
   "metadata": {},
   "outputs": [],
   "source": [
    "import scrapy\n",
    "from scrapy.crawler import CrawlerProcess\n",
    "import re\n",
    "import pandas as pd\n",
    "import matplotlib.pyplot as plt\n",
    "from datetime import datetime, timedelta, date\n",
    "import numpy as np\n",
    "import json\n",
    "import pytz\n",
    "import seaborn as sns"
   ]
  },
  {
   "cell_type": "markdown",
   "id": "2beb595d",
   "metadata": {},
   "source": [
    "# Jobs.bg job analysis\n",
    "## Project Overview"
   ]
  },
  {
   "cell_type": "markdown",
   "id": "d62dfb75",
   "metadata": {},
   "source": [
    "### The goal of this analysis is to show any correlation between different fields in a job posting, so we can make a decision which is the most widely used job currently and most useded programming and non-programming skills"
   ]
  },
  {
   "cell_type": "code",
   "execution_count": 3,
   "id": "2ce68b26",
   "metadata": {},
   "outputs": [
    {
     "name": "stdout",
     "output_type": "stream",
     "text": [
      "Scrapy 2.6.1 - no active project\r\n",
      "\r\n",
      "Unknown command: crawl\r\n",
      "\r\n",
      "Use \"scrapy\" to see available commands\r\n"
     ]
    }
   ],
   "source": [
    "!scrapy crawl scraper_name.py"
   ]
  },
  {
   "cell_type": "markdown",
   "id": "9b31836c",
   "metadata": {},
   "source": [
    "### Navigate to folder"
   ]
  },
  {
   "cell_type": "code",
   "execution_count": 4,
   "id": "ce55232c",
   "metadata": {},
   "outputs": [
    {
     "name": "stdout",
     "output_type": "stream",
     "text": [
      "/Users/dilyanyordanov/Documents/Softuni_AI/TEST/project/jobscraper\n"
     ]
    }
   ],
   "source": [
    "cd '/Users/dilyanyordanov/Documents/Softuni_AI/TEST/project/jobscraper/'"
   ]
  },
  {
   "cell_type": "markdown",
   "id": "453aeb80",
   "metadata": {},
   "source": [
    "### Data"
   ]
  },
  {
   "cell_type": "markdown",
   "id": "ebf1030b",
   "metadata": {},
   "source": [
    "### Dataset Description\n",
    "#### The dataset used in this analysis was obtained by scraping www.jobs.bg It contains information about job postings such as: job website, position name, date of postage, , company name, number of non IT employees as well as number of IT employees, location, date of establishment, work from home option as well as different programming and non-programming skill set."
   ]
  },
  {
   "cell_type": "code",
   "execution_count": 5,
   "id": "a3eb6f4d",
   "metadata": {
    "scrolled": true
   },
   "outputs": [],
   "source": [
    "!scrapy crawl scraper_name > output_file.log 2>&1"
   ]
  },
  {
   "cell_type": "code",
   "execution_count": 6,
   "id": "b7637cc0",
   "metadata": {},
   "outputs": [],
   "source": [
    "# Reading the json data\n",
    "df = pd.read_json(\"items.json\")"
   ]
  },
  {
   "cell_type": "markdown",
   "id": "59c356ac",
   "metadata": {},
   "source": [
    "### Some key features in the dataset include:\n",
    "- 'position': Title of the job position\n",
    "- 'company_name': Name of the employeer\n",
    "- 'location': Location of the company\n",
    "- 'number_of_employees': Total number of employees\n",
    "- 'established': Year of establishment\n",
    "- 'todays_date': Today's date\n",
    "- 'date_posted': Date when the job posting was created\n",
    "- 'job_url': A link to the job posting\n",
    "- 'work_from_home': Work from home option (Home OFfice Possible, Online Interview)\n",
    "- 'skills_list': A list of the programming tech stack required for the position\n",
    "- 'skills_no_img': A list of the non programming tech stack required for the position"
   ]
  },
  {
   "cell_type": "code",
   "execution_count": 7,
   "id": "1974ea48",
   "metadata": {},
   "outputs": [
    {
     "data": {
      "text/html": [
       "<div>\n",
       "<style scoped>\n",
       "    .dataframe tbody tr th:only-of-type {\n",
       "        vertical-align: middle;\n",
       "    }\n",
       "\n",
       "    .dataframe tbody tr th {\n",
       "        vertical-align: top;\n",
       "    }\n",
       "\n",
       "    .dataframe thead th {\n",
       "        text-align: right;\n",
       "    }\n",
       "</style>\n",
       "<table border=\"1\" class=\"dataframe\">\n",
       "  <thead>\n",
       "    <tr style=\"text-align: right;\">\n",
       "      <th></th>\n",
       "      <th>position</th>\n",
       "      <th>company_name</th>\n",
       "      <th>location</th>\n",
       "      <th>number_of_employees</th>\n",
       "      <th>established</th>\n",
       "      <th>todays_date</th>\n",
       "      <th>date_posted</th>\n",
       "      <th>job_url</th>\n",
       "      <th>work_from_home</th>\n",
       "      <th>skills_list</th>\n",
       "      <th>skills_no_img</th>\n",
       "      <th>salary</th>\n",
       "    </tr>\n",
       "  </thead>\n",
       "  <tbody>\n",
       "    <tr>\n",
       "      <th>0</th>\n",
       "      <td>[Head of SEO (SEO Director)]</td>\n",
       "      <td>Фючърмедиа ЕООД</td>\n",
       "      <td></td>\n",
       "      <td>[\\n           , \\n            30 служители;   ...</td>\n",
       "      <td>2016.0</td>\n",
       "      <td>15.03.23</td>\n",
       "      <td>днес</td>\n",
       "      <td>https://www.jobs.bg/job/6746997</td>\n",
       "      <td>[Home Office Possible, Online Interview]</td>\n",
       "      <td>[Английски]</td>\n",
       "      <td>[SEO]</td>\n",
       "      <td>&lt;b&gt;24 дни&lt;/b&gt;</td>\n",
       "    </tr>\n",
       "    <tr>\n",
       "      <th>1</th>\n",
       "      <td>[Wellness Support Specialist with Dutch, Finis...</td>\n",
       "      <td>Астреа Рикрутмънт ЕООД</td>\n",
       "      <td>София Заплата</td>\n",
       "      <td>[\\n           , \\n            В България от 20...</td>\n",
       "      <td>2007.0</td>\n",
       "      <td>15.03.23</td>\n",
       "      <td>днес</td>\n",
       "      <td>https://www.jobs.bg/job/6758809</td>\n",
       "      <td>[]</td>\n",
       "      <td>[Английски, Нидерландски, Норвежки, Немски, Фи...</td>\n",
       "      <td></td>\n",
       "      <td>&lt;b&gt;от 3400 до 4000 BGN&lt;/b&gt;</td>\n",
       "    </tr>\n",
       "    <tr>\n",
       "      <th>2</th>\n",
       "      <td>[Backend Developer]</td>\n",
       "      <td>HedgeServ (Bulgaria) EOOD</td>\n",
       "      <td>София</td>\n",
       "      <td>[\\n           , \\n            150 служители;  ...</td>\n",
       "      <td>2012.0</td>\n",
       "      <td>15.03.23</td>\n",
       "      <td>днес</td>\n",
       "      <td>https://www.jobs.bg/job/6758805</td>\n",
       "      <td>[Home Office Possible, Online Interview]</td>\n",
       "      <td>[Python, SQL, Jira, Jenkins]</td>\n",
       "      <td></td>\n",
       "      <td>None</td>\n",
       "    </tr>\n",
       "    <tr>\n",
       "      <th>3</th>\n",
       "      <td>[Junior Backend Developer]</td>\n",
       "      <td>HedgeServ (Bulgaria) EOOD</td>\n",
       "      <td>София</td>\n",
       "      <td>[\\n           , \\n            150 служители;  ...</td>\n",
       "      <td>2012.0</td>\n",
       "      <td>15.03.23</td>\n",
       "      <td>днес</td>\n",
       "      <td>https://www.jobs.bg/job/6758795</td>\n",
       "      <td>[Home Office Possible, Online Interview]</td>\n",
       "      <td>[Python]</td>\n",
       "      <td></td>\n",
       "      <td>None</td>\n",
       "    </tr>\n",
       "    <tr>\n",
       "      <th>4</th>\n",
       "      <td>[Data Operations Specialist with German]</td>\n",
       "      <td>SOITRON LTD</td>\n",
       "      <td></td>\n",
       "      <td>[\\n           , \\n            220 служители;  ...</td>\n",
       "      <td>2013.0</td>\n",
       "      <td>15.03.23</td>\n",
       "      <td>днес</td>\n",
       "      <td>https://www.jobs.bg/job/6758592</td>\n",
       "      <td>[Home Office Possible, Online Interview]</td>\n",
       "      <td>[Английски, Немски]</td>\n",
       "      <td></td>\n",
       "      <td>None</td>\n",
       "    </tr>\n",
       "  </tbody>\n",
       "</table>\n",
       "</div>"
      ],
      "text/plain": [
       "                                            position  \\\n",
       "0                       [Head of SEO (SEO Director)]   \n",
       "1  [Wellness Support Specialist with Dutch, Finis...   \n",
       "2                                [Backend Developer]   \n",
       "3                         [Junior Backend Developer]   \n",
       "4           [Data Operations Specialist with German]   \n",
       "\n",
       "                company_name       location  \\\n",
       "0            Фючърмедиа ЕООД                  \n",
       "1     Астреа Рикрутмънт ЕООД  София Заплата   \n",
       "2  HedgeServ (Bulgaria) EOOD          София   \n",
       "3  HedgeServ (Bulgaria) EOOD          София   \n",
       "4                SOITRON LTD                  \n",
       "\n",
       "                                 number_of_employees  established todays_date  \\\n",
       "0  [\\n           , \\n            30 служители;   ...       2016.0    15.03.23   \n",
       "1  [\\n           , \\n            В България от 20...       2007.0    15.03.23   \n",
       "2  [\\n           , \\n            150 служители;  ...       2012.0    15.03.23   \n",
       "3  [\\n           , \\n            150 служители;  ...       2012.0    15.03.23   \n",
       "4  [\\n           , \\n            220 служители;  ...       2013.0    15.03.23   \n",
       "\n",
       "  date_posted                          job_url  \\\n",
       "0        днес  https://www.jobs.bg/job/6746997   \n",
       "1        днес  https://www.jobs.bg/job/6758809   \n",
       "2        днес  https://www.jobs.bg/job/6758805   \n",
       "3        днес  https://www.jobs.bg/job/6758795   \n",
       "4        днес  https://www.jobs.bg/job/6758592   \n",
       "\n",
       "                             work_from_home  \\\n",
       "0  [Home Office Possible, Online Interview]   \n",
       "1                                        []   \n",
       "2  [Home Office Possible, Online Interview]   \n",
       "3  [Home Office Possible, Online Interview]   \n",
       "4  [Home Office Possible, Online Interview]   \n",
       "\n",
       "                                         skills_list skills_no_img  \\\n",
       "0                                        [Английски]         [SEO]   \n",
       "1  [Английски, Нидерландски, Норвежки, Немски, Фи...                 \n",
       "2                       [Python, SQL, Jira, Jenkins]                 \n",
       "3                                           [Python]                 \n",
       "4                                [Английски, Немски]                 \n",
       "\n",
       "                       salary  \n",
       "0               <b>24 дни</b>  \n",
       "1  <b>от 3400 до 4000 BGN</b>  \n",
       "2                        None  \n",
       "3                        None  \n",
       "4                        None  "
      ]
     },
     "execution_count": 7,
     "metadata": {},
     "output_type": "execute_result"
    }
   ],
   "source": [
    "df.head(5)"
   ]
  },
  {
   "cell_type": "markdown",
   "id": "03f845be",
   "metadata": {},
   "source": [
    "## Data Cleaning"
   ]
  },
  {
   "cell_type": "code",
   "execution_count": 8,
   "id": "2dfb0ba2",
   "metadata": {},
   "outputs": [
    {
     "data": {
      "text/plain": [
       "(3449, 12)"
      ]
     },
     "execution_count": 8,
     "metadata": {},
     "output_type": "execute_result"
    }
   ],
   "source": [
    "# Let's check how many columns and rows do we have\n",
    "df.shape"
   ]
  },
  {
   "cell_type": "code",
   "execution_count": 9,
   "id": "5e478dee",
   "metadata": {},
   "outputs": [],
   "source": [
    "# Let's fill the None values with 0 and remove the <b> tags\n",
    "df['salary'] = df['salary'].fillna(0)\n",
    "df['salary'].unique()\n",
    "df['salary'] = df['salary'].apply(lambda x: re.sub('<[^>]*>', '', x) if isinstance(x, str) else x)\n"
   ]
  },
  {
   "cell_type": "code",
   "execution_count": 10,
   "id": "e0349990",
   "metadata": {},
   "outputs": [],
   "source": [
    "# Checking if there is a \"BGN\" in the result and extracts only those results\n",
    "def filter_salary(x):\n",
    "    if isinstance(x, str) and 'BGN' in x:\n",
    "        return x\n",
    "    else:\n",
    "        return None\n",
    "\n",
    "df['salary'] = df['salary'].apply(filter_salary)\n"
   ]
  },
  {
   "cell_type": "code",
   "execution_count": 11,
   "id": "54f87579",
   "metadata": {},
   "outputs": [
    {
     "data": {
      "text/plain": [
       "array([    0.,  3700.,  5050.,  3250.,  2250.,  4750.,  7200.,  8000.,\n",
       "        4500.,  5000.,  2150.,  1550.,  1500.,  1750.,  3000.,  2850.,\n",
       "        7000.,  2050.,  2650.,  6250.,  2500.,  6500.,  6000.,  3125.,\n",
       "        4000.,  4250.,  1450.,  1700.,  8250.,  7500.,  2100.,  2750.,\n",
       "        7900.,  7750.,  3500.,  9250.,  5250.,  2800.,  2550., 11500.,\n",
       "       10750.,  8500.,  1250.,  7650.,  1800., 10600.,  7600.,  5750.,\n",
       "        1950.,   600.,  4400.,  2000.,  8400.,  3650., 11000., 12500.,\n",
       "        5500.,   750.,  1100.,  4450.,  1000.,  1600.,  6750., 11100.,\n",
       "        2400.,  1200.,  9000.,  9350.,  7150.,  8950.,  8350.,  8800.,\n",
       "        9850.,  3350.,  7700.,  9500.,  5350.,  1350., 10000.,  2300.,\n",
       "        4800.,  8750.,  3750.,  1900.,  9100.,  3805.,  4700.,  3450.,\n",
       "        1400.,  4200.,  7250.,  3050.,  1650.,  3300.,  2900.,  1380.,\n",
       "        1290.,  1420., 22000.,  1280.,  5150.,  2200.,  5450.,  3200.,\n",
       "        3100.,  1300.,  2600.,  3400.,  2575.,  2950.])"
      ]
     },
     "execution_count": 11,
     "metadata": {},
     "output_type": "execute_result"
    }
   ],
   "source": [
    "def extract_mean_salary(salary_string):\n",
    "    if salary_string:\n",
    "        # Remove unwanted strings and split by whitespace\n",
    "        numbers = salary_string.replace(\"от\", \"\").replace(\"до\", \"\").replace(\"BGN\", \"\").split()\n",
    "\n",
    "        # Convert the split strings to integers\n",
    "        int_numbers = [int(num) for num in numbers]\n",
    "\n",
    "        # Calculate the mean\n",
    "        mean_salary = sum(int_numbers) / len(int_numbers)\n",
    "\n",
    "        return mean_salary\n",
    "    else:\n",
    "        return None\n",
    "\n",
    "df['mean_salary'] = df['salary'].apply(extract_mean_salary)\n",
    "df['mean_salary'] = df['mean_salary'].fillna(0)\n",
    "df['mean_salary'].unique()"
   ]
  },
  {
   "cell_type": "code",
   "execution_count": 12,
   "id": "efb7aceb",
   "metadata": {},
   "outputs": [
    {
     "data": {
      "text/html": [
       "<div>\n",
       "<style scoped>\n",
       "    .dataframe tbody tr th:only-of-type {\n",
       "        vertical-align: middle;\n",
       "    }\n",
       "\n",
       "    .dataframe tbody tr th {\n",
       "        vertical-align: top;\n",
       "    }\n",
       "\n",
       "    .dataframe thead th {\n",
       "        text-align: right;\n",
       "    }\n",
       "</style>\n",
       "<table border=\"1\" class=\"dataframe\">\n",
       "  <thead>\n",
       "    <tr style=\"text-align: right;\">\n",
       "      <th></th>\n",
       "      <th>position</th>\n",
       "      <th>company_name</th>\n",
       "      <th>location</th>\n",
       "      <th>number_of_employees</th>\n",
       "      <th>established</th>\n",
       "      <th>todays_date</th>\n",
       "      <th>date_posted</th>\n",
       "      <th>job_url</th>\n",
       "      <th>work_from_home</th>\n",
       "      <th>skills_list</th>\n",
       "      <th>skills_no_img</th>\n",
       "      <th>salary</th>\n",
       "      <th>mean_salary</th>\n",
       "    </tr>\n",
       "  </thead>\n",
       "  <tbody>\n",
       "    <tr>\n",
       "      <th>0</th>\n",
       "      <td>[Head of SEO (SEO Director)]</td>\n",
       "      <td>Фючърмедиа ЕООД</td>\n",
       "      <td></td>\n",
       "      <td>[\\n           , \\n            30 служители;   ...</td>\n",
       "      <td>2016.0</td>\n",
       "      <td>15.03.23</td>\n",
       "      <td>днес</td>\n",
       "      <td>https://www.jobs.bg/job/6746997</td>\n",
       "      <td>[Home Office Possible, Online Interview]</td>\n",
       "      <td>[Английски]</td>\n",
       "      <td>[SEO]</td>\n",
       "      <td>None</td>\n",
       "      <td>0.0</td>\n",
       "    </tr>\n",
       "    <tr>\n",
       "      <th>1</th>\n",
       "      <td>[Wellness Support Specialist with Dutch, Finis...</td>\n",
       "      <td>Астреа Рикрутмънт ЕООД</td>\n",
       "      <td>София Заплата</td>\n",
       "      <td>[\\n           , \\n            В България от 20...</td>\n",
       "      <td>2007.0</td>\n",
       "      <td>15.03.23</td>\n",
       "      <td>днес</td>\n",
       "      <td>https://www.jobs.bg/job/6758809</td>\n",
       "      <td>[]</td>\n",
       "      <td>[Английски, Нидерландски, Норвежки, Немски, Фи...</td>\n",
       "      <td></td>\n",
       "      <td>от 3400 до 4000 BGN</td>\n",
       "      <td>3700.0</td>\n",
       "    </tr>\n",
       "    <tr>\n",
       "      <th>2</th>\n",
       "      <td>[Backend Developer]</td>\n",
       "      <td>HedgeServ (Bulgaria) EOOD</td>\n",
       "      <td>София</td>\n",
       "      <td>[\\n           , \\n            150 служители;  ...</td>\n",
       "      <td>2012.0</td>\n",
       "      <td>15.03.23</td>\n",
       "      <td>днес</td>\n",
       "      <td>https://www.jobs.bg/job/6758805</td>\n",
       "      <td>[Home Office Possible, Online Interview]</td>\n",
       "      <td>[Python, SQL, Jira, Jenkins]</td>\n",
       "      <td></td>\n",
       "      <td>None</td>\n",
       "      <td>0.0</td>\n",
       "    </tr>\n",
       "    <tr>\n",
       "      <th>3</th>\n",
       "      <td>[Junior Backend Developer]</td>\n",
       "      <td>HedgeServ (Bulgaria) EOOD</td>\n",
       "      <td>София</td>\n",
       "      <td>[\\n           , \\n            150 служители;  ...</td>\n",
       "      <td>2012.0</td>\n",
       "      <td>15.03.23</td>\n",
       "      <td>днес</td>\n",
       "      <td>https://www.jobs.bg/job/6758795</td>\n",
       "      <td>[Home Office Possible, Online Interview]</td>\n",
       "      <td>[Python]</td>\n",
       "      <td></td>\n",
       "      <td>None</td>\n",
       "      <td>0.0</td>\n",
       "    </tr>\n",
       "    <tr>\n",
       "      <th>4</th>\n",
       "      <td>[Data Operations Specialist with German]</td>\n",
       "      <td>SOITRON LTD</td>\n",
       "      <td></td>\n",
       "      <td>[\\n           , \\n            220 служители;  ...</td>\n",
       "      <td>2013.0</td>\n",
       "      <td>15.03.23</td>\n",
       "      <td>днес</td>\n",
       "      <td>https://www.jobs.bg/job/6758592</td>\n",
       "      <td>[Home Office Possible, Online Interview]</td>\n",
       "      <td>[Английски, Немски]</td>\n",
       "      <td></td>\n",
       "      <td>None</td>\n",
       "      <td>0.0</td>\n",
       "    </tr>\n",
       "  </tbody>\n",
       "</table>\n",
       "</div>"
      ],
      "text/plain": [
       "                                            position  \\\n",
       "0                       [Head of SEO (SEO Director)]   \n",
       "1  [Wellness Support Specialist with Dutch, Finis...   \n",
       "2                                [Backend Developer]   \n",
       "3                         [Junior Backend Developer]   \n",
       "4           [Data Operations Specialist with German]   \n",
       "\n",
       "                company_name       location  \\\n",
       "0            Фючърмедиа ЕООД                  \n",
       "1     Астреа Рикрутмънт ЕООД  София Заплата   \n",
       "2  HedgeServ (Bulgaria) EOOD          София   \n",
       "3  HedgeServ (Bulgaria) EOOD          София   \n",
       "4                SOITRON LTD                  \n",
       "\n",
       "                                 number_of_employees  established todays_date  \\\n",
       "0  [\\n           , \\n            30 служители;   ...       2016.0    15.03.23   \n",
       "1  [\\n           , \\n            В България от 20...       2007.0    15.03.23   \n",
       "2  [\\n           , \\n            150 служители;  ...       2012.0    15.03.23   \n",
       "3  [\\n           , \\n            150 служители;  ...       2012.0    15.03.23   \n",
       "4  [\\n           , \\n            220 служители;  ...       2013.0    15.03.23   \n",
       "\n",
       "  date_posted                          job_url  \\\n",
       "0        днес  https://www.jobs.bg/job/6746997   \n",
       "1        днес  https://www.jobs.bg/job/6758809   \n",
       "2        днес  https://www.jobs.bg/job/6758805   \n",
       "3        днес  https://www.jobs.bg/job/6758795   \n",
       "4        днес  https://www.jobs.bg/job/6758592   \n",
       "\n",
       "                             work_from_home  \\\n",
       "0  [Home Office Possible, Online Interview]   \n",
       "1                                        []   \n",
       "2  [Home Office Possible, Online Interview]   \n",
       "3  [Home Office Possible, Online Interview]   \n",
       "4  [Home Office Possible, Online Interview]   \n",
       "\n",
       "                                         skills_list skills_no_img  \\\n",
       "0                                        [Английски]         [SEO]   \n",
       "1  [Английски, Нидерландски, Норвежки, Немски, Фи...                 \n",
       "2                       [Python, SQL, Jira, Jenkins]                 \n",
       "3                                           [Python]                 \n",
       "4                                [Английски, Немски]                 \n",
       "\n",
       "                salary  mean_salary  \n",
       "0                 None          0.0  \n",
       "1  от 3400 до 4000 BGN       3700.0  \n",
       "2                 None          0.0  \n",
       "3                 None          0.0  \n",
       "4                 None          0.0  "
      ]
     },
     "execution_count": 12,
     "metadata": {},
     "output_type": "execute_result"
    }
   ],
   "source": [
    "df.head()"
   ]
  },
  {
   "cell_type": "code",
   "execution_count": 13,
   "id": "cc25ee1c",
   "metadata": {},
   "outputs": [],
   "source": [
    "# Get the current UTC time\n",
    "current_utc_time = datetime.now(pytz.utc)"
   ]
  },
  {
   "cell_type": "code",
   "execution_count": 14,
   "id": "636c1f85",
   "metadata": {},
   "outputs": [],
   "source": [
    "# Replace occurrences of \"днес\" and \"вчера\" with corresponding dates\n",
    "df['date_posted'] = df.apply(lambda x: x['todays_date'] if x['date_posted'] == \"днес\" else x['date_posted'], axis=1)\n",
    "df['date_posted'] = df['date_posted'].apply(lambda x:\n",
    "                                            (current_utc_time - timedelta(days=1)).strftime(\"%d.%m.%y\")\n",
    "                                            if x == 'вчера' else x)"
   ]
  },
  {
   "cell_type": "code",
   "execution_count": 15,
   "id": "8093e288",
   "metadata": {},
   "outputs": [],
   "source": [
    "# Convert 'todays_date' and 'date_posted' columns to datetime format with the correct date format\n",
    "df['todays_date'] = pd.to_datetime(df['todays_date'], format='%d.%m.%y')\n",
    "df['date_posted'] = pd.to_datetime(df['date_posted'], format='%d.%m.%y')"
   ]
  },
  {
   "cell_type": "code",
   "execution_count": 16,
   "id": "197c8415",
   "metadata": {},
   "outputs": [
    {
     "data": {
      "text/html": [
       "<div>\n",
       "<style scoped>\n",
       "    .dataframe tbody tr th:only-of-type {\n",
       "        vertical-align: middle;\n",
       "    }\n",
       "\n",
       "    .dataframe tbody tr th {\n",
       "        vertical-align: top;\n",
       "    }\n",
       "\n",
       "    .dataframe thead th {\n",
       "        text-align: right;\n",
       "    }\n",
       "</style>\n",
       "<table border=\"1\" class=\"dataframe\">\n",
       "  <thead>\n",
       "    <tr style=\"text-align: right;\">\n",
       "      <th></th>\n",
       "      <th>position</th>\n",
       "      <th>company_name</th>\n",
       "      <th>location</th>\n",
       "      <th>number_of_employees</th>\n",
       "      <th>established</th>\n",
       "      <th>todays_date</th>\n",
       "      <th>date_posted</th>\n",
       "      <th>job_url</th>\n",
       "      <th>work_from_home</th>\n",
       "      <th>skills_list</th>\n",
       "      <th>skills_no_img</th>\n",
       "      <th>salary</th>\n",
       "      <th>mean_salary</th>\n",
       "    </tr>\n",
       "  </thead>\n",
       "  <tbody>\n",
       "    <tr>\n",
       "      <th>3444</th>\n",
       "      <td>[Technical Support Engineer L2]</td>\n",
       "      <td>ТЕК ЕКСПЪРТС ЕООД</td>\n",
       "      <td>София</td>\n",
       "      <td>[\\n           , \\n            900 служители;  ...</td>\n",
       "      <td>2010.0</td>\n",
       "      <td>2023-03-15</td>\n",
       "      <td>2023-03-15</td>\n",
       "      <td>https://www.jobs.bg/job/6756912</td>\n",
       "      <td>[Online Interview]</td>\n",
       "      <td>[]</td>\n",
       "      <td></td>\n",
       "      <td>None</td>\n",
       "      <td>0.0</td>\n",
       "    </tr>\n",
       "    <tr>\n",
       "      <th>3445</th>\n",
       "      <td>[Senior Java Developer - Fully remote - FinTech]</td>\n",
       "      <td>флатексДЕГИРО - клон България</td>\n",
       "      <td></td>\n",
       "      <td>[\\n           , \\n            230 служители;  ...</td>\n",
       "      <td>2014.0</td>\n",
       "      <td>2023-03-15</td>\n",
       "      <td>2023-03-15</td>\n",
       "      <td>https://www.jobs.bg/job/6756579</td>\n",
       "      <td>[Home Office Possible, Online Interview]</td>\n",
       "      <td>[Java, Spring]</td>\n",
       "      <td></td>\n",
       "      <td>None</td>\n",
       "      <td>0.0</td>\n",
       "    </tr>\n",
       "    <tr>\n",
       "      <th>3446</th>\n",
       "      <td>[Purchase-To-Pay Expert with German, French, I...</td>\n",
       "      <td>Астреа Рикрутмънт ЕООД</td>\n",
       "      <td>София</td>\n",
       "      <td>[\\n           , \\n            В България от 20...</td>\n",
       "      <td>2007.0</td>\n",
       "      <td>2023-03-15</td>\n",
       "      <td>2023-03-14</td>\n",
       "      <td>https://www.jobs.bg/job/6756383</td>\n",
       "      <td>[Home Office Possible]</td>\n",
       "      <td>[Английски, Италиански, Немски, Полски, Португ...</td>\n",
       "      <td></td>\n",
       "      <td>от 2500 до 3000 BGN</td>\n",
       "      <td>2750.0</td>\n",
       "    </tr>\n",
       "    <tr>\n",
       "      <th>3447</th>\n",
       "      <td>[Animation Programmer - New Project - CA Sofia]</td>\n",
       "      <td>Creative Assembly Sofia / SEGA Black Sea Ltd.</td>\n",
       "      <td>София</td>\n",
       "      <td>[\\n           , \\n            300 служители;  ...</td>\n",
       "      <td>2017.0</td>\n",
       "      <td>2023-03-15</td>\n",
       "      <td>2023-03-14</td>\n",
       "      <td>https://www.jobs.bg/job/6756332</td>\n",
       "      <td>[Home Office Possible, Online Interview]</td>\n",
       "      <td>[Unreal, C/C++]</td>\n",
       "      <td></td>\n",
       "      <td>None</td>\n",
       "      <td>0.0</td>\n",
       "    </tr>\n",
       "    <tr>\n",
       "      <th>3448</th>\n",
       "      <td>[PHP Developer with Laravel]</td>\n",
       "      <td>АСАП ЕООД</td>\n",
       "      <td>София</td>\n",
       "      <td>[\\n           , \\n            В България от 20...</td>\n",
       "      <td>2007.0</td>\n",
       "      <td>2023-03-15</td>\n",
       "      <td>2023-03-14</td>\n",
       "      <td>https://www.jobs.bg/job/6756367</td>\n",
       "      <td>[Home Office Possible, Online Interview]</td>\n",
       "      <td>[PHP, Laravel, SQL, HTML/CSS, Jira, PostgreSQL]</td>\n",
       "      <td></td>\n",
       "      <td>None</td>\n",
       "      <td>0.0</td>\n",
       "    </tr>\n",
       "  </tbody>\n",
       "</table>\n",
       "</div>"
      ],
      "text/plain": [
       "                                               position  \\\n",
       "3444                    [Technical Support Engineer L2]   \n",
       "3445   [Senior Java Developer - Fully remote - FinTech]   \n",
       "3446  [Purchase-To-Pay Expert with German, French, I...   \n",
       "3447    [Animation Programmer - New Project - CA Sofia]   \n",
       "3448                       [PHP Developer with Laravel]   \n",
       "\n",
       "                                       company_name location  \\\n",
       "3444                              ТЕК ЕКСПЪРТС ЕООД    София   \n",
       "3445                  флатексДЕГИРО - клон България            \n",
       "3446                         Астреа Рикрутмънт ЕООД    София   \n",
       "3447  Creative Assembly Sofia / SEGA Black Sea Ltd.    София   \n",
       "3448                                      АСАП ЕООД    София   \n",
       "\n",
       "                                    number_of_employees  established  \\\n",
       "3444  [\\n           , \\n            900 служители;  ...       2010.0   \n",
       "3445  [\\n           , \\n            230 служители;  ...       2014.0   \n",
       "3446  [\\n           , \\n            В България от 20...       2007.0   \n",
       "3447  [\\n           , \\n            300 служители;  ...       2017.0   \n",
       "3448  [\\n           , \\n            В България от 20...       2007.0   \n",
       "\n",
       "     todays_date date_posted                          job_url  \\\n",
       "3444  2023-03-15  2023-03-15  https://www.jobs.bg/job/6756912   \n",
       "3445  2023-03-15  2023-03-15  https://www.jobs.bg/job/6756579   \n",
       "3446  2023-03-15  2023-03-14  https://www.jobs.bg/job/6756383   \n",
       "3447  2023-03-15  2023-03-14  https://www.jobs.bg/job/6756332   \n",
       "3448  2023-03-15  2023-03-14  https://www.jobs.bg/job/6756367   \n",
       "\n",
       "                                work_from_home  \\\n",
       "3444                        [Online Interview]   \n",
       "3445  [Home Office Possible, Online Interview]   \n",
       "3446                    [Home Office Possible]   \n",
       "3447  [Home Office Possible, Online Interview]   \n",
       "3448  [Home Office Possible, Online Interview]   \n",
       "\n",
       "                                            skills_list skills_no_img  \\\n",
       "3444                                                 []                 \n",
       "3445                                     [Java, Spring]                 \n",
       "3446  [Английски, Италиански, Немски, Полски, Португ...                 \n",
       "3447                                    [Unreal, C/C++]                 \n",
       "3448    [PHP, Laravel, SQL, HTML/CSS, Jira, PostgreSQL]                 \n",
       "\n",
       "                   salary  mean_salary  \n",
       "3444                 None          0.0  \n",
       "3445                 None          0.0  \n",
       "3446  от 2500 до 3000 BGN       2750.0  \n",
       "3447                 None          0.0  \n",
       "3448                 None          0.0  "
      ]
     },
     "execution_count": 16,
     "metadata": {},
     "output_type": "execute_result"
    }
   ],
   "source": [
    "df.tail()"
   ]
  },
  {
   "cell_type": "code",
   "execution_count": 17,
   "id": "3bc8a3e3",
   "metadata": {},
   "outputs": [
    {
     "data": {
      "text/plain": [
       "position                       object\n",
       "company_name                   object\n",
       "location                       object\n",
       "number_of_employees            object\n",
       "established                   float64\n",
       "todays_date            datetime64[ns]\n",
       "date_posted            datetime64[ns]\n",
       "job_url                        object\n",
       "work_from_home                 object\n",
       "skills_list                    object\n",
       "skills_no_img                  object\n",
       "salary                         object\n",
       "mean_salary                   float64\n",
       "dtype: object"
      ]
     },
     "execution_count": 17,
     "metadata": {},
     "output_type": "execute_result"
    }
   ],
   "source": [
    "# Let's check the types of variables of our columns\n",
    "df.dtypes"
   ]
  },
  {
   "cell_type": "code",
   "execution_count": 18,
   "id": "9dd4958d",
   "metadata": {
    "scrolled": false
   },
   "outputs": [
    {
     "name": "stderr",
     "output_type": "stream",
     "text": [
      "/var/folders/y3/n8lqxtc5083d11375v3_wb740000gn/T/ipykernel_74924/556262424.py:2: FutureWarning: The default value of regex will change from True to False in a future version.\n",
      "  df['position'] = df['position'].apply(lambda x: x[0] if isinstance(x, list) and len(x) > 0 else x).str.replace('[\\[\\]]',  '').str.replace(\"'\", '')\n"
     ]
    }
   ],
   "source": [
    "# Let's use regex to find any brackets in column \"position\" [] and replace them with blanks\n",
    "df['position'] = df['position'].apply(lambda x: x[0] if isinstance(x, list) and len(x) > 0 else x).str.replace('[\\[\\]]',  '').str.replace(\"'\", '')"
   ]
  },
  {
   "cell_type": "code",
   "execution_count": 19,
   "id": "149c5da3",
   "metadata": {},
   "outputs": [
    {
     "data": {
      "text/plain": [
       "position                  0\n",
       "company_name              0\n",
       "location                  0\n",
       "number_of_employees       0\n",
       "established             812\n",
       "todays_date               0\n",
       "date_posted               0\n",
       "job_url                   0\n",
       "work_from_home            0\n",
       "skills_list               0\n",
       "skills_no_img             0\n",
       "salary                 3055\n",
       "mean_salary               0\n",
       "dtype: int64"
      ]
     },
     "execution_count": 19,
     "metadata": {},
     "output_type": "execute_result"
    }
   ],
   "source": [
    "# Checking for null values in the dataset\n",
    "df.isna().sum()"
   ]
  },
  {
   "cell_type": "code",
   "execution_count": 20,
   "id": "ff052aa7",
   "metadata": {},
   "outputs": [],
   "source": [
    "# Changes the type of column \"position\" to string\n",
    "df['position'] = df['position'].astype(str)"
   ]
  },
  {
   "cell_type": "code",
   "execution_count": 21,
   "id": "c84bead9",
   "metadata": {},
   "outputs": [
    {
     "name": "stderr",
     "output_type": "stream",
     "text": [
      "/var/folders/y3/n8lqxtc5083d11375v3_wb740000gn/T/ipykernel_74924/890940726.py:2: FutureWarning: The default value of regex will change from True to False in a future version.\n",
      "  df['work_from_home'] = df['work_from_home'].apply(lambda x: x[0] if isinstance(x, list) and len(x) > 0 else x).str.replace('[\\[\\]]', '')\n"
     ]
    }
   ],
   "source": [
    "# Let's use regex to find any brackets [] and replace them with blanks\n",
    "df['work_from_home'] = df['work_from_home'].apply(lambda x: x[0] if isinstance(x, list) and len(x) > 0 else x).str.replace('[\\[\\]]', '')"
   ]
  },
  {
   "cell_type": "code",
   "execution_count": 22,
   "id": "e8564aad",
   "metadata": {},
   "outputs": [],
   "source": [
    "# Changes the type of column \"work_from_home\" to string\n",
    "df['work_from_home'] = df['work_from_home'].astype(str)"
   ]
  },
  {
   "cell_type": "code",
   "execution_count": 23,
   "id": "231ccad5",
   "metadata": {},
   "outputs": [
    {
     "name": "stderr",
     "output_type": "stream",
     "text": [
      "/var/folders/y3/n8lqxtc5083d11375v3_wb740000gn/T/ipykernel_74924/425730305.py:2: FutureWarning: The default value of regex will change from True to False in a future version.\n",
      "  df['skills_list'] = df['skills_list'].apply(lambda x: x[0] if isinstance(x, list) and len(x) > 0 else x).str.replace('[\\[\\]]', '')\n",
      "/var/folders/y3/n8lqxtc5083d11375v3_wb740000gn/T/ipykernel_74924/425730305.py:3: FutureWarning: The default value of regex will change from True to False in a future version.\n",
      "  df['skills_no_img'] = df['skills_no_img'].apply(lambda x: x[0] if isinstance(x, list) and len(x) > 0 else x).str.replace('[\\[\\]]', '')\n"
     ]
    }
   ],
   "source": [
    "# We can do the same thing to other columns suchs as: \"skills_list\" and \"skills_no_img\"\n",
    "df['skills_list'] = df['skills_list'].apply(lambda x: x[0] if isinstance(x, list) and len(x) > 0 else x).str.replace('[\\[\\]]', '')\n",
    "df['skills_no_img'] = df['skills_no_img'].apply(lambda x: x[0] if isinstance(x, list) and len(x) > 0 else x).str.replace('[\\[\\]]', '')"
   ]
  },
  {
   "cell_type": "code",
   "execution_count": 24,
   "id": "b2f513b5",
   "metadata": {},
   "outputs": [],
   "source": [
    "# Let's remove the NaN values from the \"skills_list\"\n",
    "df['skills_list'] = df['skills_list'].fillna('')"
   ]
  },
  {
   "cell_type": "code",
   "execution_count": 25,
   "id": "69e371a3",
   "metadata": {},
   "outputs": [],
   "source": [
    "df['established'] = df['established'].fillna('1111')\n",
    "#df['established'] = pd.to_datetime(df['established'], errors='coerce').dt.year"
   ]
  },
  {
   "cell_type": "code",
   "execution_count": 26,
   "id": "20d9e725",
   "metadata": {},
   "outputs": [],
   "source": [
    "# Changes the type of column \"established\" to string\n",
    "df['established'] = df['established'].astype(str)"
   ]
  },
  {
   "cell_type": "code",
   "execution_count": 27,
   "id": "bbf7918a",
   "metadata": {},
   "outputs": [
    {
     "data": {
      "text/html": [
       "<div>\n",
       "<style scoped>\n",
       "    .dataframe tbody tr th:only-of-type {\n",
       "        vertical-align: middle;\n",
       "    }\n",
       "\n",
       "    .dataframe tbody tr th {\n",
       "        vertical-align: top;\n",
       "    }\n",
       "\n",
       "    .dataframe thead th {\n",
       "        text-align: right;\n",
       "    }\n",
       "</style>\n",
       "<table border=\"1\" class=\"dataframe\">\n",
       "  <thead>\n",
       "    <tr style=\"text-align: right;\">\n",
       "      <th></th>\n",
       "      <th>position</th>\n",
       "      <th>company_name</th>\n",
       "      <th>location</th>\n",
       "      <th>number_of_employees</th>\n",
       "      <th>established</th>\n",
       "      <th>todays_date</th>\n",
       "      <th>date_posted</th>\n",
       "      <th>job_url</th>\n",
       "      <th>work_from_home</th>\n",
       "      <th>skills_list</th>\n",
       "      <th>skills_no_img</th>\n",
       "      <th>salary</th>\n",
       "      <th>mean_salary</th>\n",
       "    </tr>\n",
       "  </thead>\n",
       "  <tbody>\n",
       "    <tr>\n",
       "      <th>0</th>\n",
       "      <td>Head of SEO (SEO Director)</td>\n",
       "      <td>Фючърмедиа ЕООД</td>\n",
       "      <td></td>\n",
       "      <td>[\\n           , \\n            30 служители;   ...</td>\n",
       "      <td>2016.0</td>\n",
       "      <td>2023-03-15</td>\n",
       "      <td>2023-03-15</td>\n",
       "      <td>https://www.jobs.bg/job/6746997</td>\n",
       "      <td>Home Office Possible</td>\n",
       "      <td>Английски</td>\n",
       "      <td>SEO</td>\n",
       "      <td>None</td>\n",
       "      <td>0.0</td>\n",
       "    </tr>\n",
       "    <tr>\n",
       "      <th>1</th>\n",
       "      <td>Wellness Support Specialist with Dutch, Finish...</td>\n",
       "      <td>Астреа Рикрутмънт ЕООД</td>\n",
       "      <td>София Заплата</td>\n",
       "      <td>[\\n           , \\n            В България от 20...</td>\n",
       "      <td>2007.0</td>\n",
       "      <td>2023-03-15</td>\n",
       "      <td>2023-03-15</td>\n",
       "      <td>https://www.jobs.bg/job/6758809</td>\n",
       "      <td>nan</td>\n",
       "      <td>Английски</td>\n",
       "      <td></td>\n",
       "      <td>от 3400 до 4000 BGN</td>\n",
       "      <td>3700.0</td>\n",
       "    </tr>\n",
       "    <tr>\n",
       "      <th>2</th>\n",
       "      <td>Backend Developer</td>\n",
       "      <td>HedgeServ (Bulgaria) EOOD</td>\n",
       "      <td>София</td>\n",
       "      <td>[\\n           , \\n            150 служители;  ...</td>\n",
       "      <td>2012.0</td>\n",
       "      <td>2023-03-15</td>\n",
       "      <td>2023-03-15</td>\n",
       "      <td>https://www.jobs.bg/job/6758805</td>\n",
       "      <td>Home Office Possible</td>\n",
       "      <td>Python</td>\n",
       "      <td></td>\n",
       "      <td>None</td>\n",
       "      <td>0.0</td>\n",
       "    </tr>\n",
       "    <tr>\n",
       "      <th>3</th>\n",
       "      <td>Junior Backend Developer</td>\n",
       "      <td>HedgeServ (Bulgaria) EOOD</td>\n",
       "      <td>София</td>\n",
       "      <td>[\\n           , \\n            150 служители;  ...</td>\n",
       "      <td>2012.0</td>\n",
       "      <td>2023-03-15</td>\n",
       "      <td>2023-03-15</td>\n",
       "      <td>https://www.jobs.bg/job/6758795</td>\n",
       "      <td>Home Office Possible</td>\n",
       "      <td>Python</td>\n",
       "      <td></td>\n",
       "      <td>None</td>\n",
       "      <td>0.0</td>\n",
       "    </tr>\n",
       "    <tr>\n",
       "      <th>4</th>\n",
       "      <td>Data Operations Specialist with German</td>\n",
       "      <td>SOITRON LTD</td>\n",
       "      <td></td>\n",
       "      <td>[\\n           , \\n            220 служители;  ...</td>\n",
       "      <td>2013.0</td>\n",
       "      <td>2023-03-15</td>\n",
       "      <td>2023-03-15</td>\n",
       "      <td>https://www.jobs.bg/job/6758592</td>\n",
       "      <td>Home Office Possible</td>\n",
       "      <td>Английски</td>\n",
       "      <td></td>\n",
       "      <td>None</td>\n",
       "      <td>0.0</td>\n",
       "    </tr>\n",
       "  </tbody>\n",
       "</table>\n",
       "</div>"
      ],
      "text/plain": [
       "                                            position  \\\n",
       "0                         Head of SEO (SEO Director)   \n",
       "1  Wellness Support Specialist with Dutch, Finish...   \n",
       "2                                  Backend Developer   \n",
       "3                           Junior Backend Developer   \n",
       "4             Data Operations Specialist with German   \n",
       "\n",
       "                company_name       location  \\\n",
       "0            Фючърмедиа ЕООД                  \n",
       "1     Астреа Рикрутмънт ЕООД  София Заплата   \n",
       "2  HedgeServ (Bulgaria) EOOD          София   \n",
       "3  HedgeServ (Bulgaria) EOOD          София   \n",
       "4                SOITRON LTD                  \n",
       "\n",
       "                                 number_of_employees established todays_date  \\\n",
       "0  [\\n           , \\n            30 служители;   ...      2016.0  2023-03-15   \n",
       "1  [\\n           , \\n            В България от 20...      2007.0  2023-03-15   \n",
       "2  [\\n           , \\n            150 служители;  ...      2012.0  2023-03-15   \n",
       "3  [\\n           , \\n            150 служители;  ...      2012.0  2023-03-15   \n",
       "4  [\\n           , \\n            220 служители;  ...      2013.0  2023-03-15   \n",
       "\n",
       "  date_posted                          job_url        work_from_home  \\\n",
       "0  2023-03-15  https://www.jobs.bg/job/6746997  Home Office Possible   \n",
       "1  2023-03-15  https://www.jobs.bg/job/6758809                   nan   \n",
       "2  2023-03-15  https://www.jobs.bg/job/6758805  Home Office Possible   \n",
       "3  2023-03-15  https://www.jobs.bg/job/6758795  Home Office Possible   \n",
       "4  2023-03-15  https://www.jobs.bg/job/6758592  Home Office Possible   \n",
       "\n",
       "  skills_list skills_no_img               salary  mean_salary  \n",
       "0   Английски           SEO                 None          0.0  \n",
       "1   Английски                от 3400 до 4000 BGN       3700.0  \n",
       "2      Python                               None          0.0  \n",
       "3      Python                               None          0.0  \n",
       "4   Английски                               None          0.0  "
      ]
     },
     "execution_count": 27,
     "metadata": {},
     "output_type": "execute_result"
    }
   ],
   "source": [
    "df.head()"
   ]
  },
  {
   "cell_type": "code",
   "execution_count": 28,
   "id": "02e6530b",
   "metadata": {},
   "outputs": [],
   "source": [
    "# Replace empty strings with NaN values\n",
    "df['established'] = df['established'].replace('', np.nan)\n",
    "# Convert column to float and then integer\n",
    "df['established'] = df['established'].astype(float).astype(pd.Int64Dtype())"
   ]
  },
  {
   "cell_type": "code",
   "execution_count": 29,
   "id": "764aca1b",
   "metadata": {},
   "outputs": [],
   "source": [
    "# Formats the year from column \"established\" to Year only\n",
    "df['established'] = pd.to_datetime(df['established'], format='%Y', errors='coerce')"
   ]
  },
  {
   "cell_type": "code",
   "execution_count": 30,
   "id": "eb459654",
   "metadata": {
    "scrolled": false
   },
   "outputs": [
    {
     "data": {
      "text/html": [
       "<div>\n",
       "<style scoped>\n",
       "    .dataframe tbody tr th:only-of-type {\n",
       "        vertical-align: middle;\n",
       "    }\n",
       "\n",
       "    .dataframe tbody tr th {\n",
       "        vertical-align: top;\n",
       "    }\n",
       "\n",
       "    .dataframe thead th {\n",
       "        text-align: right;\n",
       "    }\n",
       "</style>\n",
       "<table border=\"1\" class=\"dataframe\">\n",
       "  <thead>\n",
       "    <tr style=\"text-align: right;\">\n",
       "      <th></th>\n",
       "      <th>position</th>\n",
       "      <th>company_name</th>\n",
       "      <th>location</th>\n",
       "      <th>number_of_employees</th>\n",
       "      <th>established</th>\n",
       "      <th>todays_date</th>\n",
       "      <th>date_posted</th>\n",
       "      <th>job_url</th>\n",
       "      <th>work_from_home</th>\n",
       "      <th>skills_list</th>\n",
       "      <th>skills_no_img</th>\n",
       "      <th>salary</th>\n",
       "      <th>mean_salary</th>\n",
       "    </tr>\n",
       "  </thead>\n",
       "  <tbody>\n",
       "    <tr>\n",
       "      <th>3444</th>\n",
       "      <td>Technical Support Engineer L2</td>\n",
       "      <td>ТЕК ЕКСПЪРТС ЕООД</td>\n",
       "      <td>София</td>\n",
       "      <td>[\\n           , \\n            900 служители;  ...</td>\n",
       "      <td>2010-01-01</td>\n",
       "      <td>2023-03-15</td>\n",
       "      <td>2023-03-15</td>\n",
       "      <td>https://www.jobs.bg/job/6756912</td>\n",
       "      <td>Online Interview</td>\n",
       "      <td></td>\n",
       "      <td></td>\n",
       "      <td>None</td>\n",
       "      <td>0.0</td>\n",
       "    </tr>\n",
       "    <tr>\n",
       "      <th>3445</th>\n",
       "      <td>Senior Java Developer - Fully remote - FinTech</td>\n",
       "      <td>флатексДЕГИРО - клон България</td>\n",
       "      <td></td>\n",
       "      <td>[\\n           , \\n            230 служители;  ...</td>\n",
       "      <td>2014-01-01</td>\n",
       "      <td>2023-03-15</td>\n",
       "      <td>2023-03-15</td>\n",
       "      <td>https://www.jobs.bg/job/6756579</td>\n",
       "      <td>Home Office Possible</td>\n",
       "      <td>Java</td>\n",
       "      <td></td>\n",
       "      <td>None</td>\n",
       "      <td>0.0</td>\n",
       "    </tr>\n",
       "    <tr>\n",
       "      <th>3446</th>\n",
       "      <td>Purchase-To-Pay Expert with German, French, It...</td>\n",
       "      <td>Астреа Рикрутмънт ЕООД</td>\n",
       "      <td>София</td>\n",
       "      <td>[\\n           , \\n            В България от 20...</td>\n",
       "      <td>2007-01-01</td>\n",
       "      <td>2023-03-15</td>\n",
       "      <td>2023-03-14</td>\n",
       "      <td>https://www.jobs.bg/job/6756383</td>\n",
       "      <td>Home Office Possible</td>\n",
       "      <td>Английски</td>\n",
       "      <td></td>\n",
       "      <td>от 2500 до 3000 BGN</td>\n",
       "      <td>2750.0</td>\n",
       "    </tr>\n",
       "    <tr>\n",
       "      <th>3447</th>\n",
       "      <td>Animation Programmer - New Project - CA Sofia</td>\n",
       "      <td>Creative Assembly Sofia / SEGA Black Sea Ltd.</td>\n",
       "      <td>София</td>\n",
       "      <td>[\\n           , \\n            300 служители;  ...</td>\n",
       "      <td>2017-01-01</td>\n",
       "      <td>2023-03-15</td>\n",
       "      <td>2023-03-14</td>\n",
       "      <td>https://www.jobs.bg/job/6756332</td>\n",
       "      <td>Home Office Possible</td>\n",
       "      <td>Unreal</td>\n",
       "      <td></td>\n",
       "      <td>None</td>\n",
       "      <td>0.0</td>\n",
       "    </tr>\n",
       "    <tr>\n",
       "      <th>3448</th>\n",
       "      <td>PHP Developer with Laravel</td>\n",
       "      <td>АСАП ЕООД</td>\n",
       "      <td>София</td>\n",
       "      <td>[\\n           , \\n            В България от 20...</td>\n",
       "      <td>2007-01-01</td>\n",
       "      <td>2023-03-15</td>\n",
       "      <td>2023-03-14</td>\n",
       "      <td>https://www.jobs.bg/job/6756367</td>\n",
       "      <td>Home Office Possible</td>\n",
       "      <td>PHP</td>\n",
       "      <td></td>\n",
       "      <td>None</td>\n",
       "      <td>0.0</td>\n",
       "    </tr>\n",
       "  </tbody>\n",
       "</table>\n",
       "</div>"
      ],
      "text/plain": [
       "                                               position  \\\n",
       "3444                      Technical Support Engineer L2   \n",
       "3445     Senior Java Developer - Fully remote - FinTech   \n",
       "3446  Purchase-To-Pay Expert with German, French, It...   \n",
       "3447      Animation Programmer - New Project - CA Sofia   \n",
       "3448                         PHP Developer with Laravel   \n",
       "\n",
       "                                       company_name location  \\\n",
       "3444                              ТЕК ЕКСПЪРТС ЕООД    София   \n",
       "3445                  флатексДЕГИРО - клон България            \n",
       "3446                         Астреа Рикрутмънт ЕООД    София   \n",
       "3447  Creative Assembly Sofia / SEGA Black Sea Ltd.    София   \n",
       "3448                                      АСАП ЕООД    София   \n",
       "\n",
       "                                    number_of_employees established  \\\n",
       "3444  [\\n           , \\n            900 служители;  ...  2010-01-01   \n",
       "3445  [\\n           , \\n            230 служители;  ...  2014-01-01   \n",
       "3446  [\\n           , \\n            В България от 20...  2007-01-01   \n",
       "3447  [\\n           , \\n            300 служители;  ...  2017-01-01   \n",
       "3448  [\\n           , \\n            В България от 20...  2007-01-01   \n",
       "\n",
       "     todays_date date_posted                          job_url  \\\n",
       "3444  2023-03-15  2023-03-15  https://www.jobs.bg/job/6756912   \n",
       "3445  2023-03-15  2023-03-15  https://www.jobs.bg/job/6756579   \n",
       "3446  2023-03-15  2023-03-14  https://www.jobs.bg/job/6756383   \n",
       "3447  2023-03-15  2023-03-14  https://www.jobs.bg/job/6756332   \n",
       "3448  2023-03-15  2023-03-14  https://www.jobs.bg/job/6756367   \n",
       "\n",
       "            work_from_home skills_list skills_no_img               salary  \\\n",
       "3444      Online Interview                                           None   \n",
       "3445  Home Office Possible        Java                               None   \n",
       "3446  Home Office Possible   Английски                от 2500 до 3000 BGN   \n",
       "3447  Home Office Possible      Unreal                               None   \n",
       "3448  Home Office Possible         PHP                               None   \n",
       "\n",
       "      mean_salary  \n",
       "3444          0.0  \n",
       "3445          0.0  \n",
       "3446       2750.0  \n",
       "3447          0.0  \n",
       "3448          0.0  "
      ]
     },
     "execution_count": 30,
     "metadata": {},
     "output_type": "execute_result"
    }
   ],
   "source": [
    "df.tail(5)"
   ]
  },
  {
   "cell_type": "code",
   "execution_count": 31,
   "id": "c66226b2",
   "metadata": {},
   "outputs": [],
   "source": [
    "# Changing data type to string of column \"number_of_employees\"\n",
    "df['number_of_employees'] = df['number_of_employees'].astype(str)"
   ]
  },
  {
   "cell_type": "code",
   "execution_count": 32,
   "id": "cc3c06dc",
   "metadata": {},
   "outputs": [],
   "source": [
    "# Using regex the code filters only where there is a number and catches the number of IT employees\n",
    "num_it_employees_list = []\n",
    "\n",
    "for i, row in df.iterrows():\n",
    "    string = row[\"number_of_employees\"]\n",
    "    if string:\n",
    "        match = re.search(r\"\\d+\\s+ИТ\\s+специалисти\", string)\n",
    "        if match:\n",
    "            num_it_employees = int(re.findall('\\d+', match.group(0))[0])\n",
    "            num_it_employees_list.append(num_it_employees)\n",
    "        else:\n",
    "            num_it_employees_list.append(\"\")\n",
    "    else:\n",
    "        num_it_employees_list.append(\"\")\n",
    "df.insert(df.columns.get_loc(\"number_of_employees\") + 1, \"number_IT_employees\", value=num_it_employees_list)\n",
    "df['number_IT_employees'] = num_it_employees_list"
   ]
  },
  {
   "cell_type": "code",
   "execution_count": 33,
   "id": "5c9ee07d",
   "metadata": {},
   "outputs": [],
   "source": [
    "# Changing data type to string of column \"number_IT_employees\"\n",
    "df['number_IT_employees'] = df['number_IT_employees'].astype(str)"
   ]
  },
  {
   "cell_type": "code",
   "execution_count": 34,
   "id": "a937963a",
   "metadata": {},
   "outputs": [],
   "source": [
    "# Using regex the code filters only where there is a number and catches the number of non IT employees\n",
    "num_employees_list = []\n",
    "for i, row in df.iterrows():\n",
    "    string = row[\"number_of_employees\"]\n",
    "    match = re.search(r\"\\d+\\s+служители\", string)\n",
    "    if match:\n",
    "        num_employees = match.group(0)\n",
    "        num_employees = re.findall(r'\\d+', num_employees)[0]\n",
    "        num_employees_list.append(num_employees)\n",
    "    else:\n",
    "        num_employees_list.append(\"\")\n",
    "df['number_of_employees'] = num_employees_list"
   ]
  },
  {
   "cell_type": "code",
   "execution_count": 35,
   "id": "e406b6ac",
   "metadata": {},
   "outputs": [],
   "source": [
    "# Convert the \"number_of_employees\" and \"number_IT_employees\" columns to numeric data type\n",
    "df['number_of_employees'] = pd.to_numeric(df['number_of_employees'], errors='coerce')\n",
    "df['number_IT_employees'] = pd.to_numeric(df['number_IT_employees'], errors='coerce')"
   ]
  },
  {
   "cell_type": "code",
   "execution_count": 36,
   "id": "691e85b0",
   "metadata": {},
   "outputs": [],
   "source": [
    "# Replacing a couple of values in column \"location\" where those are not necessary\n",
    "df[\"location\"] = df[\"location\"].str.replace(\" Заплата\", \"\").str.replace(\" Стаж\", \"\").str.replace(\" Отпуск\", \"\")"
   ]
  },
  {
   "cell_type": "code",
   "execution_count": 37,
   "id": "0b94d74c",
   "metadata": {},
   "outputs": [
    {
     "data": {
      "text/plain": [
       "array(['', 'София', 'Пловдив', 'Варна', 'Бургас', 'Русе', 'Пазарджик',\n",
       "       'Стряма', 'Троян', 'Габрово', 'Шумен', 'Казанлък',\n",
       "       'Велико Търново', 'Враца', 'Асеновград', 'Кърджали', 'Ямбол',\n",
       "       'Сливен', 'Севлиево', 'Хасково', 'Ловеч', 'Радомир', 'Мокрен',\n",
       "       'Свиленград', 'Монтана', 'Стара Загора', 'Перник',\n",
       "       'Раковски (Пловдив)', 'Димитровград', 'Плевен', 'Разград',\n",
       "       'с. Кокаляне', 'Ботевград', 'Елин Пелин', 'Смолян', 'Нова Загора',\n",
       "       'Добрич', 'Пловдив ', 'Дупница', 'Раднево', 'Търговище',\n",
       "       'Бяла (Варна)', 'Карлово', 'Радиново', 'София '], dtype=object)"
      ]
     },
     "execution_count": 37,
     "metadata": {},
     "output_type": "execute_result"
    }
   ],
   "source": [
    "# Checking the unique values of column \"location\"\n",
    "df['location'].unique()"
   ]
  },
  {
   "cell_type": "code",
   "execution_count": 38,
   "id": "48991987",
   "metadata": {},
   "outputs": [
    {
     "data": {
      "text/plain": [
       "position                       object\n",
       "company_name                   object\n",
       "location                       object\n",
       "number_of_employees           float64\n",
       "number_IT_employees           float64\n",
       "established            datetime64[ns]\n",
       "todays_date            datetime64[ns]\n",
       "date_posted            datetime64[ns]\n",
       "job_url                        object\n",
       "work_from_home                 object\n",
       "skills_list                    object\n",
       "skills_no_img                  object\n",
       "salary                         object\n",
       "mean_salary                   float64\n",
       "dtype: object"
      ]
     },
     "execution_count": 38,
     "metadata": {},
     "output_type": "execute_result"
    }
   ],
   "source": [
    "# Checking types of of fields in the dataset\n",
    "df.dtypes"
   ]
  },
  {
   "cell_type": "code",
   "execution_count": 39,
   "id": "9aed649e",
   "metadata": {},
   "outputs": [],
   "source": [
    "# Since some companies don't have that in the job posting, we will fill those blanks with 1950 to know who those are\n",
    "df['established'] = df['established'].fillna(pd.to_datetime('1950'))"
   ]
  },
  {
   "cell_type": "code",
   "execution_count": 40,
   "id": "d1559d78",
   "metadata": {},
   "outputs": [
    {
     "data": {
      "text/plain": [
       "position                  0\n",
       "company_name              0\n",
       "location                  0\n",
       "number_of_employees    1531\n",
       "number_IT_employees    1907\n",
       "established               0\n",
       "todays_date               0\n",
       "date_posted               0\n",
       "job_url                   0\n",
       "work_from_home            0\n",
       "skills_list               0\n",
       "skills_no_img             0\n",
       "salary                 3055\n",
       "mean_salary               0\n",
       "dtype: int64"
      ]
     },
     "execution_count": 40,
     "metadata": {},
     "output_type": "execute_result"
    }
   ],
   "source": [
    "# Checking the fields where there are not a number values\n",
    "df.isna().sum()"
   ]
  },
  {
   "cell_type": "code",
   "execution_count": 41,
   "id": "8824cf17",
   "metadata": {},
   "outputs": [
    {
     "data": {
      "text/plain": [
       "Index(['position', 'company_name', 'location', 'number_of_employees',\n",
       "       'number_IT_employees', 'established', 'todays_date', 'date_posted',\n",
       "       'job_url', 'work_from_home', 'skills_list', 'skills_no_img', 'salary',\n",
       "       'mean_salary'],\n",
       "      dtype='object')"
      ]
     },
     "execution_count": 41,
     "metadata": {},
     "output_type": "execute_result"
    }
   ],
   "source": [
    "# Checking the name of columns in our dataset\n",
    "df.columns"
   ]
  },
  {
   "cell_type": "code",
   "execution_count": 42,
   "id": "59d260da",
   "metadata": {},
   "outputs": [],
   "source": [
    "# Replacing NaN values in column \"work_from_home\" with blank\n",
    "df['work_from_home'] = df['work_from_home'].replace('nan', \"\")"
   ]
  },
  {
   "cell_type": "code",
   "execution_count": 43,
   "id": "2f1af34a",
   "metadata": {},
   "outputs": [
    {
     "data": {
      "text/plain": [
       "array(['Home Office Possible', '', 'Online Interview'], dtype=object)"
      ]
     },
     "execution_count": 43,
     "metadata": {},
     "output_type": "execute_result"
    }
   ],
   "source": [
    "# Checking the unique values of column \"work_from_home\"\n",
    "df['work_from_home'].unique()"
   ]
  },
  {
   "cell_type": "code",
   "execution_count": 44,
   "id": "af745c07",
   "metadata": {},
   "outputs": [],
   "source": [
    "# Fill the Nan values in column \"location\" with \"София\" since most of the companies have offices in Sofia\n",
    "df['location'] = df['location'].fillna('София')"
   ]
  },
  {
   "cell_type": "code",
   "execution_count": 45,
   "id": "9e50cc45",
   "metadata": {},
   "outputs": [],
   "source": [
    "# Fill the blank spaces in the 'location' column with the string 'София' only when the column is empty\n",
    "df.loc[df['location'] == \"\", 'location'] = 'София'"
   ]
  },
  {
   "cell_type": "code",
   "execution_count": 46,
   "id": "1c173755",
   "metadata": {},
   "outputs": [],
   "source": [
    "# Filling NaN values in column \"number_IT_employees\" with 0 \n",
    "df['number_IT_employees'] = df['number_IT_employees'].fillna(0)"
   ]
  },
  {
   "cell_type": "code",
   "execution_count": 47,
   "id": "c2b171f2",
   "metadata": {},
   "outputs": [
    {
     "data": {
      "text/plain": [
       "array([7.00e+00, 0.00e+00, 1.50e+02, 3.30e+01, 2.50e+02, 8.50e+02,\n",
       "       2.50e+01, 2.00e+01, 4.00e+01, 2.20e+02, 4.00e+00, 2.00e+02,\n",
       "       4.50e+01, 3.00e+01, 3.70e+03, 1.15e+02, 3.00e+02, 4.30e+02,\n",
       "       1.80e+02, 1.00e+02, 2.70e+01, 5.00e+01, 8.00e+01, 1.40e+02,\n",
       "       4.50e+02, 3.60e+01, 1.80e+01, 7.00e+01, 3.70e+01, 6.00e+00,\n",
       "       1.10e+02, 2.60e+01, 8.00e+00, 3.10e+01, 4.90e+01, 3.50e+01,\n",
       "       1.00e+01, 5.00e+00, 2.80e+02, 1.50e+01, 4.00e+02, 6.00e+01,\n",
       "       1.60e+01, 3.80e+01, 3.50e+02, 6.30e+01, 5.80e+01, 5.00e+02,\n",
       "       5.10e+01, 1.30e+02, 1.20e+02, 7.50e+01, 5.50e+01, 7.40e+01,\n",
       "       2.70e+02, 8.00e+02, 1.60e+02, 3.00e+00, 2.20e+01, 1.10e+01,\n",
       "       1.40e+01, 3.20e+01, 1.30e+01, 2.00e+00, 7.70e+01, 1.20e+01,\n",
       "       6.50e+01, 2.30e+01, 9.00e+00, 7.00e+02, 1.00e+00, 2.60e+02,\n",
       "       4.30e+01, 8.50e+01, 3.70e+02, 9.00e+02, 6.30e+02, 2.80e+01,\n",
       "       2.40e+01, 9.50e+01, 4.20e+01, 1.02e+02, 2.10e+01])"
      ]
     },
     "execution_count": 47,
     "metadata": {},
     "output_type": "execute_result"
    }
   ],
   "source": [
    "df['number_IT_employees'].unique()"
   ]
  },
  {
   "cell_type": "code",
   "execution_count": 48,
   "id": "16f6ecca",
   "metadata": {},
   "outputs": [],
   "source": [
    "# Filling NaN values in column \"number of employees\" with 0\n",
    "df['number_of_employees'] = df['number_of_employees'].fillna(0)"
   ]
  },
  {
   "cell_type": "code",
   "execution_count": 49,
   "id": "9075982e",
   "metadata": {},
   "outputs": [],
   "source": [
    "# Replace blank values in the column \"work_from_home\"\n",
    "df['work_from_home'] = df['work_from_home'].replace('', 'No Answer')"
   ]
  },
  {
   "cell_type": "code",
   "execution_count": 50,
   "id": "3c8d3bda",
   "metadata": {},
   "outputs": [],
   "source": [
    "# Create a new column to calculate the number of days since the job was posted\n",
    "df['days_since_posted'] = (datetime.now() - df['date_posted']).dt.days"
   ]
  },
  {
   "cell_type": "code",
   "execution_count": 51,
   "id": "e8317cb6",
   "metadata": {},
   "outputs": [
    {
     "data": {
      "text/html": [
       "<div>\n",
       "<style scoped>\n",
       "    .dataframe tbody tr th:only-of-type {\n",
       "        vertical-align: middle;\n",
       "    }\n",
       "\n",
       "    .dataframe tbody tr th {\n",
       "        vertical-align: top;\n",
       "    }\n",
       "\n",
       "    .dataframe thead th {\n",
       "        text-align: right;\n",
       "    }\n",
       "</style>\n",
       "<table border=\"1\" class=\"dataframe\">\n",
       "  <thead>\n",
       "    <tr style=\"text-align: right;\">\n",
       "      <th></th>\n",
       "      <th>position</th>\n",
       "      <th>company_name</th>\n",
       "      <th>location</th>\n",
       "      <th>number_of_employees</th>\n",
       "      <th>number_IT_employees</th>\n",
       "      <th>established</th>\n",
       "      <th>todays_date</th>\n",
       "      <th>date_posted</th>\n",
       "      <th>job_url</th>\n",
       "      <th>work_from_home</th>\n",
       "      <th>skills_list</th>\n",
       "      <th>skills_no_img</th>\n",
       "      <th>salary</th>\n",
       "      <th>mean_salary</th>\n",
       "      <th>days_since_posted</th>\n",
       "    </tr>\n",
       "  </thead>\n",
       "  <tbody>\n",
       "    <tr>\n",
       "      <th>3439</th>\n",
       "      <td>Database &amp; Research Admin</td>\n",
       "      <td>БАЛПЕКС ООД</td>\n",
       "      <td>София</td>\n",
       "      <td>0.0</td>\n",
       "      <td>0.0</td>\n",
       "      <td>1950-01-01</td>\n",
       "      <td>2023-03-15</td>\n",
       "      <td>2023-03-15</td>\n",
       "      <td>https://www.jobs.bg/job/6757404</td>\n",
       "      <td>No Answer</td>\n",
       "      <td>Excel</td>\n",
       "      <td></td>\n",
       "      <td>None</td>\n",
       "      <td>0.0</td>\n",
       "      <td>0</td>\n",
       "    </tr>\n",
       "    <tr>\n",
       "      <th>3440</th>\n",
       "      <td>Senior Mainframe Developer (5+ years of experi...</td>\n",
       "      <td>KBC Global Services BG</td>\n",
       "      <td>София</td>\n",
       "      <td>0.0</td>\n",
       "      <td>0.0</td>\n",
       "      <td>2019-01-01</td>\n",
       "      <td>2023-03-15</td>\n",
       "      <td>2023-03-15</td>\n",
       "      <td>https://www.jobs.bg/job/6757145</td>\n",
       "      <td>Home Office Possible</td>\n",
       "      <td>Английски</td>\n",
       "      <td></td>\n",
       "      <td>None</td>\n",
       "      <td>0.0</td>\n",
       "      <td>0</td>\n",
       "    </tr>\n",
       "    <tr>\n",
       "      <th>3441</th>\n",
       "      <td>Marketing Specialist | UX Researcher</td>\n",
       "      <td>SBT SOLUTIONS LTD</td>\n",
       "      <td>София</td>\n",
       "      <td>150.0</td>\n",
       "      <td>0.0</td>\n",
       "      <td>2018-01-01</td>\n",
       "      <td>2023-03-15</td>\n",
       "      <td>2023-03-15</td>\n",
       "      <td>https://www.jobs.bg/job/6757043</td>\n",
       "      <td>Home Office Possible</td>\n",
       "      <td></td>\n",
       "      <td></td>\n",
       "      <td>None</td>\n",
       "      <td>0.0</td>\n",
       "      <td>0</td>\n",
       "    </tr>\n",
       "    <tr>\n",
       "      <th>3442</th>\n",
       "      <td>DEVOPS ENGINEER WITH SPLUNK</td>\n",
       "      <td>Schwarz Global Services Bulgaria EOOD</td>\n",
       "      <td>София</td>\n",
       "      <td>450.0</td>\n",
       "      <td>430.0</td>\n",
       "      <td>2020-01-01</td>\n",
       "      <td>2023-03-15</td>\n",
       "      <td>2023-03-15</td>\n",
       "      <td>https://www.jobs.bg/job/6757034</td>\n",
       "      <td>Home Office Possible</td>\n",
       "      <td>Splunk</td>\n",
       "      <td>SIEM</td>\n",
       "      <td>None</td>\n",
       "      <td>0.0</td>\n",
       "      <td>0</td>\n",
       "    </tr>\n",
       "    <tr>\n",
       "      <th>3443</th>\n",
       "      <td>Cytric Java Developer - Travel Team</td>\n",
       "      <td>Amadeus Sofia Labs Ltd.</td>\n",
       "      <td>София</td>\n",
       "      <td>300.0</td>\n",
       "      <td>0.0</td>\n",
       "      <td>1987-01-01</td>\n",
       "      <td>2023-03-15</td>\n",
       "      <td>2023-03-15</td>\n",
       "      <td>https://www.jobs.bg/job/6756919</td>\n",
       "      <td>Home Office Possible</td>\n",
       "      <td>Java</td>\n",
       "      <td>UML</td>\n",
       "      <td>None</td>\n",
       "      <td>0.0</td>\n",
       "      <td>0</td>\n",
       "    </tr>\n",
       "    <tr>\n",
       "      <th>3444</th>\n",
       "      <td>Technical Support Engineer L2</td>\n",
       "      <td>ТЕК ЕКСПЪРТС ЕООД</td>\n",
       "      <td>София</td>\n",
       "      <td>900.0</td>\n",
       "      <td>900.0</td>\n",
       "      <td>2010-01-01</td>\n",
       "      <td>2023-03-15</td>\n",
       "      <td>2023-03-15</td>\n",
       "      <td>https://www.jobs.bg/job/6756912</td>\n",
       "      <td>Online Interview</td>\n",
       "      <td></td>\n",
       "      <td></td>\n",
       "      <td>None</td>\n",
       "      <td>0.0</td>\n",
       "      <td>0</td>\n",
       "    </tr>\n",
       "    <tr>\n",
       "      <th>3445</th>\n",
       "      <td>Senior Java Developer - Fully remote - FinTech</td>\n",
       "      <td>флатексДЕГИРО - клон България</td>\n",
       "      <td>София</td>\n",
       "      <td>230.0</td>\n",
       "      <td>120.0</td>\n",
       "      <td>2014-01-01</td>\n",
       "      <td>2023-03-15</td>\n",
       "      <td>2023-03-15</td>\n",
       "      <td>https://www.jobs.bg/job/6756579</td>\n",
       "      <td>Home Office Possible</td>\n",
       "      <td>Java</td>\n",
       "      <td></td>\n",
       "      <td>None</td>\n",
       "      <td>0.0</td>\n",
       "      <td>0</td>\n",
       "    </tr>\n",
       "    <tr>\n",
       "      <th>3446</th>\n",
       "      <td>Purchase-To-Pay Expert with German, French, It...</td>\n",
       "      <td>Астреа Рикрутмънт ЕООД</td>\n",
       "      <td>София</td>\n",
       "      <td>0.0</td>\n",
       "      <td>0.0</td>\n",
       "      <td>2007-01-01</td>\n",
       "      <td>2023-03-15</td>\n",
       "      <td>2023-03-14</td>\n",
       "      <td>https://www.jobs.bg/job/6756383</td>\n",
       "      <td>Home Office Possible</td>\n",
       "      <td>Английски</td>\n",
       "      <td></td>\n",
       "      <td>от 2500 до 3000 BGN</td>\n",
       "      <td>2750.0</td>\n",
       "      <td>1</td>\n",
       "    </tr>\n",
       "    <tr>\n",
       "      <th>3447</th>\n",
       "      <td>Animation Programmer - New Project - CA Sofia</td>\n",
       "      <td>Creative Assembly Sofia / SEGA Black Sea Ltd.</td>\n",
       "      <td>София</td>\n",
       "      <td>300.0</td>\n",
       "      <td>0.0</td>\n",
       "      <td>2017-01-01</td>\n",
       "      <td>2023-03-15</td>\n",
       "      <td>2023-03-14</td>\n",
       "      <td>https://www.jobs.bg/job/6756332</td>\n",
       "      <td>Home Office Possible</td>\n",
       "      <td>Unreal</td>\n",
       "      <td></td>\n",
       "      <td>None</td>\n",
       "      <td>0.0</td>\n",
       "      <td>1</td>\n",
       "    </tr>\n",
       "    <tr>\n",
       "      <th>3448</th>\n",
       "      <td>PHP Developer with Laravel</td>\n",
       "      <td>АСАП ЕООД</td>\n",
       "      <td>София</td>\n",
       "      <td>0.0</td>\n",
       "      <td>0.0</td>\n",
       "      <td>2007-01-01</td>\n",
       "      <td>2023-03-15</td>\n",
       "      <td>2023-03-14</td>\n",
       "      <td>https://www.jobs.bg/job/6756367</td>\n",
       "      <td>Home Office Possible</td>\n",
       "      <td>PHP</td>\n",
       "      <td></td>\n",
       "      <td>None</td>\n",
       "      <td>0.0</td>\n",
       "      <td>1</td>\n",
       "    </tr>\n",
       "  </tbody>\n",
       "</table>\n",
       "</div>"
      ],
      "text/plain": [
       "                                               position  \\\n",
       "3439                          Database & Research Admin   \n",
       "3440  Senior Mainframe Developer (5+ years of experi...   \n",
       "3441               Marketing Specialist | UX Researcher   \n",
       "3442                        DEVOPS ENGINEER WITH SPLUNK   \n",
       "3443                Cytric Java Developer - Travel Team   \n",
       "3444                      Technical Support Engineer L2   \n",
       "3445     Senior Java Developer - Fully remote - FinTech   \n",
       "3446  Purchase-To-Pay Expert with German, French, It...   \n",
       "3447      Animation Programmer - New Project - CA Sofia   \n",
       "3448                         PHP Developer with Laravel   \n",
       "\n",
       "                                       company_name location  \\\n",
       "3439                                    БАЛПЕКС ООД    София   \n",
       "3440                         KBC Global Services BG    София   \n",
       "3441                              SBT SOLUTIONS LTD    София   \n",
       "3442          Schwarz Global Services Bulgaria EOOD    София   \n",
       "3443                        Amadeus Sofia Labs Ltd.    София   \n",
       "3444                              ТЕК ЕКСПЪРТС ЕООД    София   \n",
       "3445                  флатексДЕГИРО - клон България    София   \n",
       "3446                         Астреа Рикрутмънт ЕООД    София   \n",
       "3447  Creative Assembly Sofia / SEGA Black Sea Ltd.    София   \n",
       "3448                                      АСАП ЕООД    София   \n",
       "\n",
       "      number_of_employees  number_IT_employees established todays_date  \\\n",
       "3439                  0.0                  0.0  1950-01-01  2023-03-15   \n",
       "3440                  0.0                  0.0  2019-01-01  2023-03-15   \n",
       "3441                150.0                  0.0  2018-01-01  2023-03-15   \n",
       "3442                450.0                430.0  2020-01-01  2023-03-15   \n",
       "3443                300.0                  0.0  1987-01-01  2023-03-15   \n",
       "3444                900.0                900.0  2010-01-01  2023-03-15   \n",
       "3445                230.0                120.0  2014-01-01  2023-03-15   \n",
       "3446                  0.0                  0.0  2007-01-01  2023-03-15   \n",
       "3447                300.0                  0.0  2017-01-01  2023-03-15   \n",
       "3448                  0.0                  0.0  2007-01-01  2023-03-15   \n",
       "\n",
       "     date_posted                          job_url        work_from_home  \\\n",
       "3439  2023-03-15  https://www.jobs.bg/job/6757404             No Answer   \n",
       "3440  2023-03-15  https://www.jobs.bg/job/6757145  Home Office Possible   \n",
       "3441  2023-03-15  https://www.jobs.bg/job/6757043  Home Office Possible   \n",
       "3442  2023-03-15  https://www.jobs.bg/job/6757034  Home Office Possible   \n",
       "3443  2023-03-15  https://www.jobs.bg/job/6756919  Home Office Possible   \n",
       "3444  2023-03-15  https://www.jobs.bg/job/6756912      Online Interview   \n",
       "3445  2023-03-15  https://www.jobs.bg/job/6756579  Home Office Possible   \n",
       "3446  2023-03-14  https://www.jobs.bg/job/6756383  Home Office Possible   \n",
       "3447  2023-03-14  https://www.jobs.bg/job/6756332  Home Office Possible   \n",
       "3448  2023-03-14  https://www.jobs.bg/job/6756367  Home Office Possible   \n",
       "\n",
       "     skills_list skills_no_img               salary  mean_salary  \\\n",
       "3439       Excel                               None          0.0   \n",
       "3440   Английски                               None          0.0   \n",
       "3441                                           None          0.0   \n",
       "3442      Splunk          SIEM                 None          0.0   \n",
       "3443        Java           UML                 None          0.0   \n",
       "3444                                           None          0.0   \n",
       "3445        Java                               None          0.0   \n",
       "3446   Английски                от 2500 до 3000 BGN       2750.0   \n",
       "3447      Unreal                               None          0.0   \n",
       "3448         PHP                               None          0.0   \n",
       "\n",
       "      days_since_posted  \n",
       "3439                  0  \n",
       "3440                  0  \n",
       "3441                  0  \n",
       "3442                  0  \n",
       "3443                  0  \n",
       "3444                  0  \n",
       "3445                  0  \n",
       "3446                  1  \n",
       "3447                  1  \n",
       "3448                  1  "
      ]
     },
     "execution_count": 51,
     "metadata": {},
     "output_type": "execute_result"
    }
   ],
   "source": [
    "df.tail(10)"
   ]
  },
  {
   "cell_type": "markdown",
   "id": "cd25364e",
   "metadata": {},
   "source": [
    "## EDA"
   ]
  },
  {
   "cell_type": "markdown",
   "id": "4f5efc11",
   "metadata": {},
   "source": [
    "## Group the job postings by position and location and count the number of postings for each group"
   ]
  },
  {
   "cell_type": "code",
   "execution_count": 52,
   "id": "dd7c385b",
   "metadata": {},
   "outputs": [
    {
     "data": {
      "text/html": [
       "<div>\n",
       "<style scoped>\n",
       "    .dataframe tbody tr th:only-of-type {\n",
       "        vertical-align: middle;\n",
       "    }\n",
       "\n",
       "    .dataframe tbody tr th {\n",
       "        vertical-align: top;\n",
       "    }\n",
       "\n",
       "    .dataframe thead th {\n",
       "        text-align: right;\n",
       "    }\n",
       "</style>\n",
       "<table border=\"1\" class=\"dataframe\">\n",
       "  <thead>\n",
       "    <tr style=\"text-align: right;\">\n",
       "      <th></th>\n",
       "      <th>position</th>\n",
       "      <th>location</th>\n",
       "      <th>count</th>\n",
       "    </tr>\n",
       "  </thead>\n",
       "  <tbody>\n",
       "    <tr>\n",
       "      <th>531</th>\n",
       "      <td>DevOps Engineer</td>\n",
       "      <td>София</td>\n",
       "      <td>32</td>\n",
       "    </tr>\n",
       "    <tr>\n",
       "      <th>2013</th>\n",
       "      <td>Senior Java Developer</td>\n",
       "      <td>София</td>\n",
       "      <td>28</td>\n",
       "    </tr>\n",
       "    <tr>\n",
       "      <th>1000</th>\n",
       "      <td>Java Developer</td>\n",
       "      <td>София</td>\n",
       "      <td>23</td>\n",
       "    </tr>\n",
       "    <tr>\n",
       "      <th>468</th>\n",
       "      <td>Data Engineer</td>\n",
       "      <td>София</td>\n",
       "      <td>19</td>\n",
       "    </tr>\n",
       "    <tr>\n",
       "      <th>1952</th>\n",
       "      <td>Senior DevOps Engineer</td>\n",
       "      <td>София</td>\n",
       "      <td>17</td>\n",
       "    </tr>\n",
       "    <tr>\n",
       "      <th>1566</th>\n",
       "      <td>QA Engineer</td>\n",
       "      <td>София</td>\n",
       "      <td>12</td>\n",
       "    </tr>\n",
       "    <tr>\n",
       "      <th>101</th>\n",
       "      <td>Android Developer</td>\n",
       "      <td>София</td>\n",
       "      <td>12</td>\n",
       "    </tr>\n",
       "    <tr>\n",
       "      <th>1113</th>\n",
       "      <td>Junior Java Developer</td>\n",
       "      <td>София</td>\n",
       "      <td>10</td>\n",
       "    </tr>\n",
       "    <tr>\n",
       "      <th>1539</th>\n",
       "      <td>Project Manager</td>\n",
       "      <td>София</td>\n",
       "      <td>10</td>\n",
       "    </tr>\n",
       "    <tr>\n",
       "      <th>18</th>\n",
       "      <td>.NET Developer</td>\n",
       "      <td>София</td>\n",
       "      <td>9</td>\n",
       "    </tr>\n",
       "    <tr>\n",
       "      <th>2470</th>\n",
       "      <td>Web Developer</td>\n",
       "      <td>София</td>\n",
       "      <td>9</td>\n",
       "    </tr>\n",
       "    <tr>\n",
       "      <th>1550</th>\n",
       "      <td>Python Developer</td>\n",
       "      <td>София</td>\n",
       "      <td>8</td>\n",
       "    </tr>\n",
       "    <tr>\n",
       "      <th>1944</th>\n",
       "      <td>Senior Data Engineer</td>\n",
       "      <td>София</td>\n",
       "      <td>7</td>\n",
       "    </tr>\n",
       "    <tr>\n",
       "      <th>289</th>\n",
       "      <td>C++ Developer</td>\n",
       "      <td>София</td>\n",
       "      <td>7</td>\n",
       "    </tr>\n",
       "    <tr>\n",
       "      <th>2190</th>\n",
       "      <td>Site Reliability Engineer</td>\n",
       "      <td>София</td>\n",
       "      <td>7</td>\n",
       "    </tr>\n",
       "    <tr>\n",
       "      <th>2288</th>\n",
       "      <td>System Administrator</td>\n",
       "      <td>София</td>\n",
       "      <td>7</td>\n",
       "    </tr>\n",
       "    <tr>\n",
       "      <th>2356</th>\n",
       "      <td>Technical Project Manager</td>\n",
       "      <td>София</td>\n",
       "      <td>7</td>\n",
       "    </tr>\n",
       "    <tr>\n",
       "      <th>1438</th>\n",
       "      <td>PHP Developer</td>\n",
       "      <td>София</td>\n",
       "      <td>7</td>\n",
       "    </tr>\n",
       "    <tr>\n",
       "      <th>1864</th>\n",
       "      <td>Senior .NET Developer</td>\n",
       "      <td>София</td>\n",
       "      <td>7</td>\n",
       "    </tr>\n",
       "    <tr>\n",
       "      <th>458</th>\n",
       "      <td>Data Analyst</td>\n",
       "      <td>София</td>\n",
       "      <td>7</td>\n",
       "    </tr>\n",
       "    <tr>\n",
       "      <th>1560</th>\n",
       "      <td>QA Automation Engineer</td>\n",
       "      <td>София</td>\n",
       "      <td>6</td>\n",
       "    </tr>\n",
       "    <tr>\n",
       "      <th>1033</th>\n",
       "      <td>Java Team Lead</td>\n",
       "      <td>София</td>\n",
       "      <td>6</td>\n",
       "    </tr>\n",
       "    <tr>\n",
       "      <th>2395</th>\n",
       "      <td>Technical Writer</td>\n",
       "      <td>София</td>\n",
       "      <td>6</td>\n",
       "    </tr>\n",
       "    <tr>\n",
       "      <th>1600</th>\n",
       "      <td>React Developer</td>\n",
       "      <td>София</td>\n",
       "      <td>6</td>\n",
       "    </tr>\n",
       "    <tr>\n",
       "      <th>2505</th>\n",
       "      <td>iOS Developer</td>\n",
       "      <td>София</td>\n",
       "      <td>6</td>\n",
       "    </tr>\n",
       "    <tr>\n",
       "      <th>2201</th>\n",
       "      <td>Software Developer</td>\n",
       "      <td>София</td>\n",
       "      <td>6</td>\n",
       "    </tr>\n",
       "    <tr>\n",
       "      <th>502</th>\n",
       "      <td>Database Administrator</td>\n",
       "      <td>София</td>\n",
       "      <td>6</td>\n",
       "    </tr>\n",
       "    <tr>\n",
       "      <th>1085</th>\n",
       "      <td>Junior DevOps Engineer</td>\n",
       "      <td>София</td>\n",
       "      <td>5</td>\n",
       "    </tr>\n",
       "    <tr>\n",
       "      <th>2082</th>\n",
       "      <td>Senior Python Developer</td>\n",
       "      <td>София</td>\n",
       "      <td>5</td>\n",
       "    </tr>\n",
       "    <tr>\n",
       "      <th>230</th>\n",
       "      <td>Business Analyst</td>\n",
       "      <td>София</td>\n",
       "      <td>5</td>\n",
       "    </tr>\n",
       "  </tbody>\n",
       "</table>\n",
       "</div>"
      ],
      "text/plain": [
       "                       position location  count\n",
       "531             DevOps Engineer    София     32\n",
       "2013      Senior Java Developer    София     28\n",
       "1000             Java Developer    София     23\n",
       "468               Data Engineer    София     19\n",
       "1952     Senior DevOps Engineer    София     17\n",
       "1566                QA Engineer    София     12\n",
       "101           Android Developer    София     12\n",
       "1113      Junior Java Developer    София     10\n",
       "1539            Project Manager    София     10\n",
       "18               .NET Developer    София      9\n",
       "2470              Web Developer    София      9\n",
       "1550           Python Developer    София      8\n",
       "1944       Senior Data Engineer    София      7\n",
       "289               C++ Developer    София      7\n",
       "2190  Site Reliability Engineer    София      7\n",
       "2288       System Administrator    София      7\n",
       "2356  Technical Project Manager    София      7\n",
       "1438              PHP Developer    София      7\n",
       "1864      Senior .NET Developer    София      7\n",
       "458                Data Analyst    София      7\n",
       "1560     QA Automation Engineer    София      6\n",
       "1033             Java Team Lead    София      6\n",
       "2395           Technical Writer    София      6\n",
       "1600            React Developer    София      6\n",
       "2505              iOS Developer    София      6\n",
       "2201         Software Developer    София      6\n",
       "502      Database Administrator    София      6\n",
       "1085     Junior DevOps Engineer    София      5\n",
       "2082    Senior Python Developer    София      5\n",
       "230            Business Analyst    София      5"
      ]
     },
     "execution_count": 52,
     "metadata": {},
     "output_type": "execute_result"
    }
   ],
   "source": [
    "job_trends = df.groupby(['position', 'location']).size().reset_index(name='count')\n",
    "# Sort the job trends by count in descending order\n",
    "job_trends = job_trends.sort_values('count', ascending=False)\n",
    "job_trends.head(30)"
   ]
  },
  {
   "cell_type": "code",
   "execution_count": 53,
   "id": "84a2e620",
   "metadata": {},
   "outputs": [
    {
     "data": {
      "image/png": "[encoded data removed]",
      "text/plain": [
       "<Figure size 864x576 with 1 Axes>"
      ]
     },
     "metadata": {
      "needs_background": "light"
     },
     "output_type": "display_data"
    }
   ],
   "source": [
    "# Plot a horizontal bar chart of the top 20 job trends\n",
    "plt.figure(figsize=(12, 8))\n",
    "plt.barh(job_trends.head(30)['position'] + ', ' + job_trends.head(30)['location'], job_trends.head(30)['count'])\n",
    "plt.title('Top 20 Job Trends')\n",
    "plt.xlabel('Number of Job Postings')\n",
    "plt.ylabel('Position, Location')\n",
    "plt.show()"
   ]
  },
  {
   "cell_type": "markdown",
   "id": "c7bb26b2",
   "metadata": {},
   "source": [
    "## Company Analysis by number of employees and date of establishment"
   ]
  },
  {
   "cell_type": "code",
   "execution_count": 54,
   "id": "797196a7",
   "metadata": {},
   "outputs": [],
   "source": [
    "# Identify any rows with non-numeric values in the 'number_of_employees' column\n",
    "non_numeric_rows = df[pd.isna(df['number_of_employees'])]\n",
    "non_numeric_rows_it = df[pd.isna(df['number_IT_employees'])]"
   ]
  },
  {
   "cell_type": "code",
   "execution_count": 55,
   "id": "d672c97b",
   "metadata": {},
   "outputs": [
    {
     "data": {
      "text/html": [
       "<div>\n",
       "<style scoped>\n",
       "    .dataframe tbody tr th:only-of-type {\n",
       "        vertical-align: middle;\n",
       "    }\n",
       "\n",
       "    .dataframe tbody tr th {\n",
       "        vertical-align: top;\n",
       "    }\n",
       "\n",
       "    .dataframe thead th {\n",
       "        text-align: right;\n",
       "    }\n",
       "</style>\n",
       "<table border=\"1\" class=\"dataframe\">\n",
       "  <thead>\n",
       "    <tr style=\"text-align: right;\">\n",
       "      <th></th>\n",
       "      <th>number_of_employees</th>\n",
       "      <th>number_IT_employees</th>\n",
       "      <th>established</th>\n",
       "    </tr>\n",
       "    <tr>\n",
       "      <th>company_name</th>\n",
       "      <th></th>\n",
       "      <th></th>\n",
       "      <th></th>\n",
       "    </tr>\n",
       "  </thead>\n",
       "  <tbody>\n",
       "    <tr>\n",
       "      <th>BIC Services Sofia EOOD</th>\n",
       "      <td>13000.0</td>\n",
       "      <td>0.0</td>\n",
       "      <td>1950-01-01</td>\n",
       "    </tr>\n",
       "    <tr>\n",
       "      <th>DXC Technology / DXC Bulgaria EOOD</th>\n",
       "      <td>4000.0</td>\n",
       "      <td>3700.0</td>\n",
       "      <td>2017-01-01</td>\n",
       "    </tr>\n",
       "    <tr>\n",
       "      <th>А1 България ЕАД</th>\n",
       "      <td>3600.0</td>\n",
       "      <td>300.0</td>\n",
       "      <td>1994-01-01</td>\n",
       "    </tr>\n",
       "    <tr>\n",
       "      <th>UniCredit Bulbank AD</th>\n",
       "      <td>3400.0</td>\n",
       "      <td>260.0</td>\n",
       "      <td>1994-01-01</td>\n",
       "    </tr>\n",
       "    <tr>\n",
       "      <th>Пощенска банка</th>\n",
       "      <td>3000.0</td>\n",
       "      <td>130.0</td>\n",
       "      <td>1991-01-01</td>\n",
       "    </tr>\n",
       "    <tr>\n",
       "      <th>МАКСИМА БЪЛГАРИЯ ЕООД</th>\n",
       "      <td>2300.0</td>\n",
       "      <td>0.0</td>\n",
       "      <td>2005-01-01</td>\n",
       "    </tr>\n",
       "    <tr>\n",
       "      <th>CONCENTRIX SERVICES BULGARIA LTD</th>\n",
       "      <td>2200.0</td>\n",
       "      <td>0.0</td>\n",
       "      <td>2007-01-01</td>\n",
       "    </tr>\n",
       "    <tr>\n",
       "      <th>ДЖИ АЙ ГРУП ЕООД</th>\n",
       "      <td>2050.0</td>\n",
       "      <td>0.0</td>\n",
       "      <td>2010-01-01</td>\n",
       "    </tr>\n",
       "    <tr>\n",
       "      <th>YETTEL BULGARIA EAD</th>\n",
       "      <td>1800.0</td>\n",
       "      <td>0.0</td>\n",
       "      <td>2001-01-01</td>\n",
       "    </tr>\n",
       "    <tr>\n",
       "      <th>VMware Bulgaria</th>\n",
       "      <td>1700.0</td>\n",
       "      <td>0.0</td>\n",
       "      <td>2007-01-01</td>\n",
       "    </tr>\n",
       "    <tr>\n",
       "      <th>СКФ Берингс България ЕАД</th>\n",
       "      <td>1650.0</td>\n",
       "      <td>0.0</td>\n",
       "      <td>2002-01-01</td>\n",
       "    </tr>\n",
       "    <tr>\n",
       "      <th>КАРГИЛ БЪЛГАРИЯ ЕООД</th>\n",
       "      <td>1600.0</td>\n",
       "      <td>0.0</td>\n",
       "      <td>2006-01-01</td>\n",
       "    </tr>\n",
       "    <tr>\n",
       "      <th>ПИ ПИ ДИ БЪЛГАРИЯ ЕООД</th>\n",
       "      <td>1600.0</td>\n",
       "      <td>0.0</td>\n",
       "      <td>1950-01-01</td>\n",
       "    </tr>\n",
       "    <tr>\n",
       "      <th>LeverX Bulgaria EOOD</th>\n",
       "      <td>1600.0</td>\n",
       "      <td>0.0</td>\n",
       "      <td>2004-01-01</td>\n",
       "    </tr>\n",
       "    <tr>\n",
       "      <th>ХЮВЕФАРМА ЕООД</th>\n",
       "      <td>1500.0</td>\n",
       "      <td>30.0</td>\n",
       "      <td>1999-01-01</td>\n",
       "    </tr>\n",
       "    <tr>\n",
       "      <th>ГЕЙМПРОМ ООД</th>\n",
       "      <td>1500.0</td>\n",
       "      <td>30.0</td>\n",
       "      <td>2006-01-01</td>\n",
       "    </tr>\n",
       "    <tr>\n",
       "      <th>Палфингер Продукционстехник България ЕООД - клон София</th>\n",
       "      <td>1400.0</td>\n",
       "      <td>0.0</td>\n",
       "      <td>1999-01-01</td>\n",
       "    </tr>\n",
       "    <tr>\n",
       "      <th>SAP Labs Bulgaria Ltd.</th>\n",
       "      <td>1400.0</td>\n",
       "      <td>0.0</td>\n",
       "      <td>2000-01-01</td>\n",
       "    </tr>\n",
       "    <tr>\n",
       "      <th>Paysafe Bulgaria EOOD</th>\n",
       "      <td>1400.0</td>\n",
       "      <td>370.0</td>\n",
       "      <td>2000-01-01</td>\n",
       "    </tr>\n",
       "    <tr>\n",
       "      <th>Tide Platform Bulgaria</th>\n",
       "      <td>1365.0</td>\n",
       "      <td>0.0</td>\n",
       "      <td>2018-01-01</td>\n",
       "    </tr>\n",
       "    <tr>\n",
       "      <th>РЕГИОКОМ ЕВРОПЕЙСКО ДРУЖЕСТВО - КЛОН БЪЛГАРИЯ КЧТ Централен офис Варна</th>\n",
       "      <td>1300.0</td>\n",
       "      <td>35.0</td>\n",
       "      <td>2006-01-01</td>\n",
       "    </tr>\n",
       "    <tr>\n",
       "      <th>Инграм Микро ГБС ЕООД</th>\n",
       "      <td>1300.0</td>\n",
       "      <td>0.0</td>\n",
       "      <td>2012-01-01</td>\n",
       "    </tr>\n",
       "    <tr>\n",
       "      <th>ФИКОСОТА ООД</th>\n",
       "      <td>1200.0</td>\n",
       "      <td>0.0</td>\n",
       "      <td>1994-01-01</td>\n",
       "    </tr>\n",
       "    <tr>\n",
       "      <th>Akkodis Bulgaria EOOD</th>\n",
       "      <td>1200.0</td>\n",
       "      <td>0.0</td>\n",
       "      <td>2005-01-01</td>\n",
       "    </tr>\n",
       "    <tr>\n",
       "      <th>АТОС АЙ ТИ СОЛУШЪНС ЕНД СЪРВИСИС ЕООД</th>\n",
       "      <td>1150.0</td>\n",
       "      <td>425.0</td>\n",
       "      <td>2006-01-01</td>\n",
       "    </tr>\n",
       "    <tr>\n",
       "      <th>СОФИЙСКА ВОДА АД</th>\n",
       "      <td>1100.0</td>\n",
       "      <td>0.0</td>\n",
       "      <td>2000-01-01</td>\n",
       "    </tr>\n",
       "    <tr>\n",
       "      <th>EXPERIAN BULGARIA EAD</th>\n",
       "      <td>1050.0</td>\n",
       "      <td>500.0</td>\n",
       "      <td>2004-01-01</td>\n",
       "    </tr>\n",
       "    <tr>\n",
       "      <th>ДМ България ЕООД</th>\n",
       "      <td>1000.0</td>\n",
       "      <td>0.0</td>\n",
       "      <td>2009-01-01</td>\n",
       "    </tr>\n",
       "    <tr>\n",
       "      <th>tbi bank</th>\n",
       "      <td>1000.0</td>\n",
       "      <td>0.0</td>\n",
       "      <td>2002-01-01</td>\n",
       "    </tr>\n",
       "    <tr>\n",
       "      <th>ВП Брандс Интернешънъл АД</th>\n",
       "      <td>1000.0</td>\n",
       "      <td>0.0</td>\n",
       "      <td>1950-01-01</td>\n",
       "    </tr>\n",
       "  </tbody>\n",
       "</table>\n",
       "</div>"
      ],
      "text/plain": [
       "                                                    number_of_employees  \\\n",
       "company_name                                                              \n",
       "BIC Services Sofia EOOD                                         13000.0   \n",
       "DXC Technology / DXC Bulgaria EOOD                               4000.0   \n",
       "А1 България ЕАД                                                  3600.0   \n",
       "UniCredit Bulbank AD                                             3400.0   \n",
       "Пощенска банка                                                   3000.0   \n",
       "МАКСИМА БЪЛГАРИЯ ЕООД                                            2300.0   \n",
       "CONCENTRIX SERVICES BULGARIA LTD                                 2200.0   \n",
       "ДЖИ АЙ ГРУП ЕООД                                                 2050.0   \n",
       "YETTEL BULGARIA EAD                                              1800.0   \n",
       "VMware Bulgaria                                                  1700.0   \n",
       "СКФ Берингс България ЕАД                                         1650.0   \n",
       "КАРГИЛ БЪЛГАРИЯ ЕООД                                             1600.0   \n",
       "ПИ ПИ ДИ БЪЛГАРИЯ ЕООД                                           1600.0   \n",
       "LeverX Bulgaria EOOD                                             1600.0   \n",
       "ХЮВЕФАРМА ЕООД                                                   1500.0   \n",
       "ГЕЙМПРОМ ООД                                                     1500.0   \n",
       "Палфингер Продукционстехник България ЕООД - кло...               1400.0   \n",
       "SAP Labs Bulgaria Ltd.                                           1400.0   \n",
       "Paysafe Bulgaria EOOD                                            1400.0   \n",
       "Tide Platform Bulgaria                                           1365.0   \n",
       "РЕГИОКОМ ЕВРОПЕЙСКО ДРУЖЕСТВО - КЛОН БЪЛГАРИЯ К...               1300.0   \n",
       "Инграм Микро ГБС ЕООД                                            1300.0   \n",
       "ФИКОСОТА ООД                                                     1200.0   \n",
       "Akkodis Bulgaria EOOD                                            1200.0   \n",
       "АТОС АЙ ТИ СОЛУШЪНС ЕНД СЪРВИСИС ЕООД                            1150.0   \n",
       "СОФИЙСКА ВОДА АД                                                 1100.0   \n",
       "EXPERIAN BULGARIA EAD                                            1050.0   \n",
       "ДМ България ЕООД                                                 1000.0   \n",
       "tbi bank                                                         1000.0   \n",
       "ВП Брандс Интернешънъл АД                                        1000.0   \n",
       "\n",
       "                                                    number_IT_employees  \\\n",
       "company_name                                                              \n",
       "BIC Services Sofia EOOD                                             0.0   \n",
       "DXC Technology / DXC Bulgaria EOOD                               3700.0   \n",
       "А1 България ЕАД                                                   300.0   \n",
       "UniCredit Bulbank AD                                              260.0   \n",
       "Пощенска банка                                                    130.0   \n",
       "МАКСИМА БЪЛГАРИЯ ЕООД                                               0.0   \n",
       "CONCENTRIX SERVICES BULGARIA LTD                                    0.0   \n",
       "ДЖИ АЙ ГРУП ЕООД                                                    0.0   \n",
       "YETTEL BULGARIA EAD                                                 0.0   \n",
       "VMware Bulgaria                                                     0.0   \n",
       "СКФ Берингс България ЕАД                                            0.0   \n",
       "КАРГИЛ БЪЛГАРИЯ ЕООД                                                0.0   \n",
       "ПИ ПИ ДИ БЪЛГАРИЯ ЕООД                                              0.0   \n",
       "LeverX Bulgaria EOOD                                                0.0   \n",
       "ХЮВЕФАРМА ЕООД                                                     30.0   \n",
       "ГЕЙМПРОМ ООД                                                       30.0   \n",
       "Палфингер Продукционстехник България ЕООД - кло...                  0.0   \n",
       "SAP Labs Bulgaria Ltd.                                              0.0   \n",
       "Paysafe Bulgaria EOOD                                             370.0   \n",
       "Tide Platform Bulgaria                                              0.0   \n",
       "РЕГИОКОМ ЕВРОПЕЙСКО ДРУЖЕСТВО - КЛОН БЪЛГАРИЯ К...                 35.0   \n",
       "Инграм Микро ГБС ЕООД                                               0.0   \n",
       "ФИКОСОТА ООД                                                        0.0   \n",
       "Akkodis Bulgaria EOOD                                               0.0   \n",
       "АТОС АЙ ТИ СОЛУШЪНС ЕНД СЪРВИСИС ЕООД                             425.0   \n",
       "СОФИЙСКА ВОДА АД                                                    0.0   \n",
       "EXPERIAN BULGARIA EAD                                             500.0   \n",
       "ДМ България ЕООД                                                    0.0   \n",
       "tbi bank                                                            0.0   \n",
       "ВП Брандс Интернешънъл АД                                           0.0   \n",
       "\n",
       "                                                   established  \n",
       "company_name                                                    \n",
       "BIC Services Sofia EOOD                             1950-01-01  \n",
       "DXC Technology / DXC Bulgaria EOOD                  2017-01-01  \n",
       "А1 България ЕАД                                     1994-01-01  \n",
       "UniCredit Bulbank AD                                1994-01-01  \n",
       "Пощенска банка                                      1991-01-01  \n",
       "МАКСИМА БЪЛГАРИЯ ЕООД                               2005-01-01  \n",
       "CONCENTRIX SERVICES BULGARIA LTD                    2007-01-01  \n",
       "ДЖИ АЙ ГРУП ЕООД                                    2010-01-01  \n",
       "YETTEL BULGARIA EAD                                 2001-01-01  \n",
       "VMware Bulgaria                                     2007-01-01  \n",
       "СКФ Берингс България ЕАД                            2002-01-01  \n",
       "КАРГИЛ БЪЛГАРИЯ ЕООД                                2006-01-01  \n",
       "ПИ ПИ ДИ БЪЛГАРИЯ ЕООД                              1950-01-01  \n",
       "LeverX Bulgaria EOOD                                2004-01-01  \n",
       "ХЮВЕФАРМА ЕООД                                      1999-01-01  \n",
       "ГЕЙМПРОМ ООД                                        2006-01-01  \n",
       "Палфингер Продукционстехник България ЕООД - кло...  1999-01-01  \n",
       "SAP Labs Bulgaria Ltd.                              2000-01-01  \n",
       "Paysafe Bulgaria EOOD                               2000-01-01  \n",
       "Tide Platform Bulgaria                              2018-01-01  \n",
       "РЕГИОКОМ ЕВРОПЕЙСКО ДРУЖЕСТВО - КЛОН БЪЛГАРИЯ К...  2006-01-01  \n",
       "Инграм Микро ГБС ЕООД                               2012-01-01  \n",
       "ФИКОСОТА ООД                                        1994-01-01  \n",
       "Akkodis Bulgaria EOOD                               2005-01-01  \n",
       "АТОС АЙ ТИ СОЛУШЪНС ЕНД СЪРВИСИС ЕООД               2006-01-01  \n",
       "СОФИЙСКА ВОДА АД                                    2000-01-01  \n",
       "EXPERIAN BULGARIA EAD                               2004-01-01  \n",
       "ДМ България ЕООД                                    2009-01-01  \n",
       "tbi bank                                            2002-01-01  \n",
       "ВП Брандс Интернешънъл АД                           1950-01-01  "
      ]
     },
     "execution_count": 55,
     "metadata": {},
     "output_type": "execute_result"
    }
   ],
   "source": [
    "# Group the job postings by company and calculate the average number of employees, average number of IT employees, and minimum establishment year for each company\n",
    "company_analysis = df.groupby('company_name').agg({'number_of_employees': 'mean', 'number_IT_employees': 'mean', 'established': 'min'})\n",
    "# Sort the companies by number of IT employees in descending order\n",
    "company_analysis = company_analysis.sort_values('number_of_employees', ascending=False)\n",
    "company_analysis.head(30)"
   ]
  },
  {
   "cell_type": "markdown",
   "id": "24fb3924",
   "metadata": {},
   "source": [
    "## Analyze job requirements and skills"
   ]
  },
  {
   "cell_type": "code",
   "execution_count": 56,
   "id": "156627ef",
   "metadata": {
    "scrolled": false
   },
   "outputs": [
    {
     "name": "stdout",
     "output_type": "stream",
     "text": [
      "Top 20 skills in 'skills_list':\n",
      "         skill  count\n",
      "94   Английски    610\n",
      "37        Java    296\n",
      "24       Excel    115\n",
      "14       C/C++    114\n",
      "89     Windows    114\n",
      "70         SQL    107\n",
      "38  JavaScript    105\n",
      "45       Linux    102\n",
      "63      Python     94\n",
      "0         .NET     93\n",
      "68         SAP     89\n",
      "57         PHP     79\n",
      "3          AWS     74\n",
      "66       React     68\n",
      "12       Azure     54\n",
      "71  SalesForce     51\n",
      "40        Jira     50\n",
      "32    HTML/CSS     47\n",
      "13          C#     42\n",
      "7      Angular     35\n",
      "\n",
      "Top 20 skills in 'skills_no_img':\n",
      "                 skill  count\n",
      "37       Shell Scripts    172\n",
      "16                 ERP     81\n",
      "17                 ETL     70\n",
      "31                 SEO     61\n",
      "14  Data Visualization     55\n",
      "30             Routing     54\n",
      "11                 CRM     50\n",
      "21                ITIL     47\n",
      "36        Scrum Master     45\n",
      "23               JUnit     42\n",
      "3                   BI     39\n",
      "18        Firewall/WAF     32\n",
      "41           Switching     29\n",
      "1               ASPICE     26\n",
      "26              PL/SQL     23\n",
      "43                 UML     21\n",
      "19                 IIS     20\n",
      "32                SIEM     19\n",
      "15      Data Warehouse     18\n",
      "5                 CCNA     14\n"
     ]
    },
    {
     "data": {
      "image/png": "[encoded data removed]",
      "text/plain": [
       "<Figure size 864x576 with 1 Axes>"
      ]
     },
     "metadata": {
      "needs_background": "light"
     },
     "output_type": "display_data"
    },
    {
     "data": {
      "image/png": "[encoded data removed]",
      "text/plain": [
       "<Figure size 864x576 with 1 Axes>"
      ]
     },
     "metadata": {
      "needs_background": "light"
     },
     "output_type": "display_data"
    }
   ],
   "source": [
    "# Split the 'skills_list' column into a list of skills\n",
    "skills_list_df = df['skills_list'].apply(lambda x: [i.strip() for i in x.strip(\"[]\").split(\",\")]).apply(pd.Series).stack().reset_index(level=0).rename(columns={0: 'skill'})\n",
    "\n",
    "# Remove the empty strings from the skills_list_df DataFrame\n",
    "skills_list_df = skills_list_df[skills_list_df['skill'] != \"\"]\n",
    "\n",
    "# Split the 'skills_no_img' column into a list of skills\n",
    "skills_no_img_df = df['skills_no_img'].str.split(',', expand=True).stack().reset_index(level=0).rename(columns={0: 'skill'})\n",
    "\n",
    "# Remove the empty strings from the skills_no_img_df DataFrame\n",
    "skills_no_img_df = skills_no_img_df[skills_no_img_df['skill'].str.strip() != \"\"]\n",
    "\n",
    "# Combine the 'skills_list' and 'skills_no_img' DataFrames into a single DataFrame\n",
    "skills_df = pd.concat([skills_list_df, skills_no_img_df], ignore_index=True)\n",
    "skills_df['skill'] = skills_df['skill'].str.strip()\n",
    "\n",
    "# Group the skills by skill name and count the number of times each skill appears\n",
    "skills_analysis_list = skills_list_df.groupby('skill').size().reset_index(name='count')\n",
    "skills_analysis_no_img = skills_no_img_df.groupby('skill').size().reset_index(name='count')\n",
    "\n",
    "# Sort the skills by count in descending order\n",
    "skills_analysis_list = skills_analysis_list.sort_values('count', ascending=False)\n",
    "skills_analysis_no_img = skills_analysis_no_img.sort_values('count', ascending=False)\n",
    "\n",
    "print(\"Top 20 skills in 'skills_list':\")\n",
    "print(skills_analysis_list.head(20))\n",
    "print(\"\\nTop 20 skills in 'skills_no_img':\")\n",
    "print(skills_analysis_no_img.head(20))\n",
    "\n",
    "# Plot a bar chart for the top 20 skills in 'skills_list'\n",
    "fig, ax = plt.subplots(figsize=(12, 8))\n",
    "ax.bar(skills_analysis_list['skill'].head(20), skills_analysis_list['count'].head(20), color='blue')\n",
    "ax.set_xlabel('Skill')\n",
    "ax.set_ylabel('Count')\n",
    "ax.set_title('Top 20 skills in \\'skills_list\\'')\n",
    "plt.xticks(rotation=90)\n",
    "plt.show()\n",
    "\n",
    "# Plot a bar chart for the top 20 skills in 'skills_no_img'\n",
    "fig, ax = plt.subplots(figsize=(12, 8))\n",
    "ax.bar(skills_analysis_no_img['skill'].head(20), skills_analysis_no_img['count'].head(20), color='green')\n",
    "ax.set_xlabel('Skill')\n",
    "ax.set_ylabel('Count')\n",
    "ax.set_title('Top 20 skills in \\'skills_no_img\\'')\n",
    "plt.xticks(rotation=90)\n",
    "plt.show()\n"
   ]
  },
  {
   "cell_type": "code",
   "execution_count": 57,
   "id": "44c7c7e1",
   "metadata": {},
   "outputs": [
    {
     "name": "stdout",
     "output_type": "stream",
     "text": [
      "Number of empty skills: 0\n"
     ]
    }
   ],
   "source": [
    "# Number of empty rows in column \"skills_list\"\n",
    "empty_skills_count = df['skills_list'].apply(lambda x: x == \"[]\").sum()\n",
    "print(f\"Number of empty skills: {empty_skills_count}\")"
   ]
  },
  {
   "cell_type": "code",
   "execution_count": 58,
   "id": "e7331093",
   "metadata": {},
   "outputs": [
    {
     "name": "stdout",
     "output_type": "stream",
     "text": [
      "Number of empty skills_no_img: 2401\n"
     ]
    }
   ],
   "source": [
    "# Number of empty rows in column \"skills_no_img\"\n",
    "empty_skills_no_img_count = df['skills_no_img'].apply(lambda x: x == \"\").sum()\n",
    "print(f\"Number of empty skills_no_img: {empty_skills_no_img_count}\")"
   ]
  },
  {
   "cell_type": "markdown",
   "id": "f50ef6e3",
   "metadata": {},
   "source": [
    "## Work From Home Analysis"
   ]
  },
  {
   "cell_type": "code",
   "execution_count": 59,
   "id": "b860fe2d",
   "metadata": {},
   "outputs": [
    {
     "name": "stdout",
     "output_type": "stream",
     "text": [
      "Number of job postings that offer work from home option:\n",
      "Home Office Possible    1702\n",
      "No Answer               1496\n",
      "Online Interview         251\n",
      "Name: work_from_home, dtype: int64\n",
      "\n",
      "Percentage of job postings that offer work from home option:\n",
      "Home Office Possible    49.347637\n",
      "No Answer               43.374891\n",
      "Online Interview         7.277472\n",
      "Name: work_from_home, dtype: float64\n"
     ]
    }
   ],
   "source": [
    "# Number of job postings that offer work-from-home options\n",
    "work_from_home_counts = df['work_from_home'].value_counts()\n",
    "\n",
    "# Percentage of job postings that offer work-from-home options\n",
    "work_from_home_percent = work_from_home_counts / len(df) * 100\n",
    "\n",
    "print(f\"Number of job postings that offer work from home option:\\n{work_from_home_counts}\\n\")\n",
    "print(f\"Percentage of job postings that offer work from home option:\\n{work_from_home_percent}\")"
   ]
  },
  {
   "cell_type": "code",
   "execution_count": 60,
   "id": "87860174",
   "metadata": {},
   "outputs": [
    {
     "data": {
      "image/png": "[encoded data removed]",
      "text/plain": [
       "<Figure size 864x576 with 1 Axes>"
      ]
     },
     "metadata": {
      "needs_background": "light"
     },
     "output_type": "display_data"
    }
   ],
   "source": [
    "# Visualize the percentage of job postings that offer work-from-home options\n",
    "fig, ax = plt.subplots(figsize=(12,8))\n",
    "ax.bar(work_from_home_percent.index, work_from_home_percent.values)\n",
    "ax.set_title('Percentage of job postings that offer work-from-home options')\n",
    "ax.set_xlabel('Work from home options')\n",
    "ax.set_ylabel('Percentage')\n",
    "plt.show()"
   ]
  },
  {
   "cell_type": "markdown",
   "id": "2a11a976",
   "metadata": {},
   "source": [
    "## Number of jobs postings by location"
   ]
  },
  {
   "cell_type": "code",
   "execution_count": 61,
   "id": "69ae815b",
   "metadata": {
    "scrolled": false
   },
   "outputs": [
    {
     "data": {
      "image/png": "[encoded data removed]",
      "text/plain": [
       "<Figure size 864x576 with 1 Axes>"
      ]
     },
     "metadata": {
      "needs_background": "light"
     },
     "output_type": "display_data"
    }
   ],
   "source": [
    "# Count the number of job postings by location\n",
    "location_counts = df['location'].value_counts()\n",
    "\n",
    "plt.figure(figsize=(12, 8))\n",
    "\n",
    "# Create a bar chart of the location counts\n",
    "ax = location_counts.plot(kind='bar')\n",
    "plt.title('Number of job postings by location')\n",
    "plt.xlabel('Location')\n",
    "plt.ylabel('Number of job postings')\n",
    "\n",
    "# Add numbers on top of each bar\n",
    "for i, v in enumerate(location_counts):\n",
    "    ax.text(i, v+5, str(v), ha='center')\n",
    "\n",
    "plt.show()"
   ]
  },
  {
   "cell_type": "markdown",
   "id": "2287f776",
   "metadata": {},
   "source": [
    "## Number of IT Employees vs number of non IT employees"
   ]
  },
  {
   "cell_type": "code",
   "execution_count": 62,
   "id": "b567d277",
   "metadata": {},
   "outputs": [
    {
     "data": {
      "image/png": "[encoded data removed]",
      "text/plain": [
       "<Figure size 864x576 with 1 Axes>"
      ]
     },
     "metadata": {
      "needs_background": "light"
     },
     "output_type": "display_data"
    }
   ],
   "source": [
    "# Create a scatter plot of the number of IT employees vs. the number of non-IT employees\n",
    "plt.figure(figsize = (12, 8))\n",
    "df['number_non_IT_employees'] = df['number_of_employees'] - df['number_IT_employees']\n",
    "plt.scatter(df['number_non_IT_employees'], df['number_IT_employees'])\n",
    "plt.title('Number of IT employees vs. number of non-IT employees')\n",
    "plt.xlabel('Number of non-IT employees')\n",
    "plt.ylabel('Number of IT employees')\n",
    "plt.show()\n"
   ]
  },
  {
   "cell_type": "markdown",
   "id": "ec91b4f4",
   "metadata": {},
   "source": [
    "### This is relative of course but this result mainly shows that most of the companies are small with not a lot of IT employee"
   ]
  },
  {
   "cell_type": "markdown",
   "id": "c30490c6",
   "metadata": {},
   "source": [
    "## Distribution of days since job postings were posted "
   ]
  },
  {
   "cell_type": "code",
   "execution_count": 63,
   "id": "75a5f5c4",
   "metadata": {},
   "outputs": [
    {
     "data": {
      "image/png": "[encoded data removed]",
      "text/plain": [
       "<Figure size 864x576 with 1 Axes>"
      ]
     },
     "metadata": {
      "needs_background": "light"
     },
     "output_type": "display_data"
    }
   ],
   "source": [
    "# Set the figure size\n",
    "plt.figure(figsize=(12, 8))\n",
    "\n",
    "# Specify the number of bins and the range of x-axis\n",
    "num_bins = 50  # Adjust this value as needed for more or less granularity\n",
    "x_min = 0\n",
    "x_max = 60  # Adjust this value to set the maximum days displayed\n",
    "\n",
    "# Plot the histogram and get the outputs (n, bins, patches)\n",
    "n, bins, patches = plt.hist(df['days_since_posted'], bins=num_bins, range=(x_min, x_max))\n",
    "\n",
    "# Set the title and labels\n",
    "plt.title('Distribution of days since job postings were posted')\n",
    "plt.xlabel('Days since posted')\n",
    "plt.ylabel('Number of job postings')\n",
    "\n",
    "# Customize the x-axis range\n",
    "plt.xlim(x_min, x_max)\n",
    "\n",
    "# Annotate the count on top of each bin\n",
    "for i in range(len(patches)):\n",
    "    bin_height = patches[i].get_height()\n",
    "    plt.annotate(f'{int(bin_height)}', xy=(patches[i].get_x() + patches[i].get_width() / 2, bin_height),\n",
    "                 xytext=(0, 3), textcoords='offset points', ha='center', va='bottom')\n",
    "\n",
    "# Display the plot\n",
    "plt.show()"
   ]
  },
  {
   "cell_type": "markdown",
   "id": "a828b2e7",
   "metadata": {},
   "source": [
    "### Distribution of companies and year when they were established"
   ]
  },
  {
   "cell_type": "code",
   "execution_count": 64,
   "id": "163371de",
   "metadata": {},
   "outputs": [
    {
     "data": {
      "text/plain": [
       "Timestamp('1994-07-17 01:51:28.547405184')"
      ]
     },
     "execution_count": 64,
     "metadata": {},
     "output_type": "execute_result"
    }
   ],
   "source": [
    "df['established'].mean()"
   ]
  },
  {
   "cell_type": "code",
   "execution_count": 65,
   "id": "543ff2ce",
   "metadata": {},
   "outputs": [
    {
     "name": "stderr",
     "output_type": "stream",
     "text": [
      "/var/folders/y3/n8lqxtc5083d11375v3_wb740000gn/T/ipykernel_74924/3735501345.py:7: SettingWithCopyWarning: \n",
      "A value is trying to be set on a copy of a slice from a DataFrame.\n",
      "Try using .loc[row_indexer,col_indexer] = value instead\n",
      "\n",
      "See the caveats in the documentation: https://pandas.pydata.org/pandas-docs/stable/user_guide/indexing.html#returning-a-view-versus-a-copy\n",
      "  df_filtered['company_age'] = current_year - df_filtered['established_year']\n"
     ]
    },
    {
     "data": {
      "image/png": "[encoded data removed]",
      "text/plain": [
       "<Figure size 864x576 with 1 Axes>"
      ]
     },
     "metadata": {
      "needs_background": "light"
     },
     "output_type": "display_data"
    }
   ],
   "source": [
    "current_year = pd.Timestamp.now().year\n",
    "df['established_year'] = df['established'].dt.year\n",
    "\n",
    "# Filter the DataFrame to include only companies established in 1988 or later\n",
    "df_filtered = df[df['established_year'] >= 1988]\n",
    "\n",
    "df_filtered['company_age'] = current_year - df_filtered['established_year']\n",
    "\n",
    "plt.figure(figsize=(12, 8))\n",
    "df_filtered['company_age'].hist()\n",
    "plt.title('Distribution of Company Ages (Established in 1988 or later)')\n",
    "plt.xlabel('Company Age (Years)')\n",
    "plt.ylabel('Number of Companies')\n",
    "plt.show()"
   ]
  },
  {
   "cell_type": "markdown",
   "id": "56016557",
   "metadata": {},
   "source": [
    "### Company Size Distribution:"
   ]
  },
  {
   "cell_type": "code",
   "execution_count": 66,
   "id": "5bfa7fe3",
   "metadata": {},
   "outputs": [
    {
     "data": {
      "image/png": "[encoded data removed]",
      "text/plain": [
       "<Figure size 864x576 with 1 Axes>"
      ]
     },
     "metadata": {
      "needs_background": "light"
     },
     "output_type": "display_data"
    }
   ],
   "source": [
    "plt.figure(figsize=(12, 8))\n",
    "df_filtered['number_of_employees'].hist()\n",
    "plt.title('Distribution of Company Sizes (Established in 1988 or later)')\n",
    "plt.xlabel('Number of Employees')\n",
    "plt.ylabel('Number of Companies')\n",
    "plt.show()\n"
   ]
  },
  {
   "cell_type": "markdown",
   "id": "e2baeaec",
   "metadata": {},
   "source": [
    "### Company Age vs. Company Size: Create a scatter plot to explore the relationship between company age and company size for companies established in 1988 or later."
   ]
  },
  {
   "cell_type": "code",
   "execution_count": 67,
   "id": "a03d29a5",
   "metadata": {},
   "outputs": [
    {
     "data": {
      "image/png": "[encoded data removed]",
      "text/plain": [
       "<Figure size 864x576 with 1 Axes>"
      ]
     },
     "metadata": {
      "needs_background": "light"
     },
     "output_type": "display_data"
    }
   ],
   "source": [
    "plt.figure(figsize=(12, 8))\n",
    "plt.scatter(df_filtered['company_age'], df_filtered['number_of_employees'])\n",
    "plt.title('Company Age vs. Company Size (Established in 1988 or later)')\n",
    "plt.xlabel('Company Age (Years)')\n",
    "plt.ylabel('Number of Employees')\n",
    "plt.show()\n",
    "\n",
    "# Usually the older the company, the more employees it has"
   ]
  },
  {
   "cell_type": "markdown",
   "id": "dbd3c061",
   "metadata": {},
   "source": [
    "### Grouping by Age: Group companies established in 1988 or later into age categories (startups, young and mature) "
   ]
  },
  {
   "cell_type": "code",
   "execution_count": 68,
   "id": "f6a0f515",
   "metadata": {},
   "outputs": [
    {
     "name": "stdout",
     "output_type": "stream",
     "text": [
      "           count        mean  median  min     max\n",
      "age_group                                        \n",
      "Mature      1302  428.112135   150.0  0.0  3600.0\n",
      "Startup      191  116.157068    20.0  0.0   490.0\n",
      "Young       1066  201.704503    70.0  0.0  4000.0\n"
     ]
    },
    {
     "name": "stderr",
     "output_type": "stream",
     "text": [
      "/var/folders/y3/n8lqxtc5083d11375v3_wb740000gn/T/ipykernel_74924/898971437.py:9: SettingWithCopyWarning: \n",
      "A value is trying to be set on a copy of a slice from a DataFrame.\n",
      "Try using .loc[row_indexer,col_indexer] = value instead\n",
      "\n",
      "See the caveats in the documentation: https://pandas.pydata.org/pandas-docs/stable/user_guide/indexing.html#returning-a-view-versus-a-copy\n",
      "  df_filtered['age_group'] = df_filtered['company_age'].apply(age_group)\n"
     ]
    }
   ],
   "source": [
    "def age_group(age):\n",
    "    if age <= 3:\n",
    "        return 'Startup'\n",
    "    elif age <= 10:\n",
    "        return 'Young'\n",
    "    else:\n",
    "        return 'Mature'\n",
    "\n",
    "df_filtered['age_group'] = df_filtered['company_age'].apply(age_group)\n",
    "\n",
    "grouped_sizes = df_filtered.groupby('age_group')['number_of_employees'].agg(['count', 'mean', 'median', 'min', 'max'])\n",
    "print(grouped_sizes)\n"
   ]
  },
  {
   "cell_type": "code",
   "execution_count": 69,
   "id": "4870eaa0",
   "metadata": {},
   "outputs": [
    {
     "data": {
      "image/png": "[encoded data removed]",
      "text/plain": [
       "<Figure size 864x576 with 1 Axes>"
      ]
     },
     "metadata": {
      "needs_background": "light"
     },
     "output_type": "display_data"
    }
   ],
   "source": [
    "mean_sizes = df_filtered.groupby('age_group')['number_of_employees'].mean()\n",
    "\n",
    "plt.figure(figsize=(12, 8))\n",
    "mean_sizes.plot(kind='bar')\n",
    "plt.title('Mean Number of Employees by Age Group (Established in 1988 or later)')\n",
    "plt.xlabel('Age Group')\n",
    "plt.ylabel('Mean Number of Employees')\n",
    "plt.show()\n",
    "\n",
    "# We can conclude that mature companies typically have more employees"
   ]
  },
  {
   "cell_type": "code",
   "execution_count": 70,
   "id": "e9ca48f8",
   "metadata": {},
   "outputs": [
    {
     "name": "stdout",
     "output_type": "stream",
     "text": [
      "Mean salary: 4716.890862944162\n"
     ]
    }
   ],
   "source": [
    "# Calculates the mean salary of all job postings that have listed salary for the position\n",
    "mean_salary = df[df['mean_salary'] > 1]['mean_salary'].mean()\n",
    "print(\"Mean salary:\", mean_salary)"
   ]
  },
  {
   "cell_type": "markdown",
   "id": "bd774844",
   "metadata": {},
   "source": [
    "### Calculate the average salary per position"
   ]
  },
  {
   "cell_type": "code",
   "execution_count": 71,
   "id": "9d43ae4c",
   "metadata": {},
   "outputs": [
    {
     "data": {
      "image/png": "[encoded data removed]",
      "text/plain": [
       "<Figure size 864x576 with 1 Axes>"
      ]
     },
     "metadata": {
      "needs_background": "light"
     },
     "output_type": "display_data"
    }
   ],
   "source": [
    "mean_salaries_by_position = df.groupby('position')['mean_salary'].mean().sort_values(ascending=False)\n",
    "\n",
    "top_positions = mean_salaries_by_position.head(20)\n",
    "\n",
    "plt.figure(figsize=(12, 8))\n",
    "top_positions.plot(kind='bar')\n",
    "plt.title('Top 20 Mean Salary by Position')\n",
    "plt.xlabel('Position')\n",
    "plt.ylabel('Mean Salary')\n",
    "plt.xticks(rotation=90)\n",
    "plt.show()"
   ]
  },
  {
   "cell_type": "markdown",
   "id": "8acd6fea",
   "metadata": {},
   "source": [
    "###  Top 20 companies offering the highest average salary."
   ]
  },
  {
   "cell_type": "code",
   "execution_count": 72,
   "id": "6249c09a",
   "metadata": {},
   "outputs": [
    {
     "data": {
      "image/png": "[encoded data removed]",
      "text/plain": [
       "<Figure size 864x576 with 1 Axes>"
      ]
     },
     "metadata": {
      "needs_background": "light"
     },
     "output_type": "display_data"
    }
   ],
   "source": [
    "df.groupby('company_name')['mean_salary'].mean().sort_values(ascending=False).head(10)\n",
    "\n",
    "top_salaries_by_company = df.groupby('company_name')['mean_salary'].mean().sort_values(ascending=False).head(20)\n",
    "\n",
    "plt.figure(figsize=(12, 8))\n",
    "top_salaries_by_company.plot(kind='bar')\n",
    "plt.title('Top 20 Mean Salary by Company')\n",
    "plt.xlabel('Company')\n",
    "plt.ylabel('Mean Salary')\n",
    "plt.xticks(rotation=90)\n",
    "plt.show()"
   ]
  },
  {
   "cell_type": "markdown",
   "id": "964ea92a",
   "metadata": {},
   "source": [
    "### Calculates the mean salary (max) by company age"
   ]
  },
  {
   "cell_type": "code",
   "execution_count": 81,
   "id": "36c2b5f0",
   "metadata": {},
   "outputs": [
    {
     "data": {
      "image/png": "[encoded data removed]",
      "text/plain": [
       "<Figure size 864x576 with 1 Axes>"
      ]
     },
     "metadata": {
      "needs_background": "light"
     },
     "output_type": "display_data"
    }
   ],
   "source": [
    "# Categorize the companies into startup, young, and mature based on their age\n",
    "df['company_age'] = df['established_year'].apply(lambda x: 'startup' if x >= (date.today().year - 3) else ('young' if x >= (date.today().year - 5) else 'mature'))\n",
    "\n",
    "# Calculate the maximum salary by company age\n",
    "max_salary_by_age = df.groupby('company_age')['mean_salary'].max()\n",
    "\n",
    "# Plot the bar chart\n",
    "fig, ax = plt.subplots(figsize=(12, 8))\n",
    "bars = ax.bar(max_salary_by_age.index, max_salary_by_age.values, color='blue')\n",
    "\n",
    "ax.set_xlabel('Company Age')\n",
    "ax.set_ylabel('Max Salary')\n",
    "ax.set_title('Max Salary by Company Age')\n",
    "plt.xticks(rotation=45)\n",
    "\n",
    "# Adding a number on top of each bar\n",
    "for bar in bars:\n",
    "    height = bar.get_height()\n",
    "    ax.text(bar.get_x() + bar.get_width() / 2., height,\n",
    "            f'{height:.2f}', ha='center', va='bottom')\n",
    "\n",
    "plt.show()\n",
    "\n",
    "# So it seems that highest salaries can be found in startups and salaries are almost equal\n",
    "# between mature companies and young ones."
   ]
  },
  {
   "cell_type": "code",
   "execution_count": null,
   "id": "c5732828",
   "metadata": {},
   "outputs": [],
   "source": []
  }
 ],
 "metadata": {
  "kernelspec": {
   "display_name": "Python 3 (ipykernel)",
   "language": "python",
   "name": "python3"
  },
  "language_info": {
   "codemirror_mode": {
    "name": "ipython",
    "version": 3
   },
   "file_extension": ".py",
   "mimetype": "text/x-python",
   "name": "python",
   "nbconvert_exporter": "python",
   "pygments_lexer": "ipython3",
   "version": "3.9.12"
  }
 },
 "nbformat": 4,
 "nbformat_minor": 5
}
